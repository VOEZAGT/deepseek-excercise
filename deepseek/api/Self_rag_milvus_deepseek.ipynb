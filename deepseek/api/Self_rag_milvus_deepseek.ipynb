{
 "cells": [
  {
   "metadata": {},
   "cell_type": "markdown",
   "source": [
    "# 作业：使用 Milvus 和 DeepSeek,以民法典文档为本地知识库，构建RAG，向其提出问题并查看生成结果。\n",
    "\n",
    "DeepSeek\n",
    "帮助开发者使用高性能语言模型构建和扩展\n",
    "AI\n",
    "应用。它提供高效的推理、灵活的\n",
    "API\n",
    "以及先进的专家混合(MoE)\n",
    "架构，用于强大的推理和检索任务。\n",
    "\n"
   ],
   "id": "1cd0595ccc5429e1"
  },
  {
   "metadata": {},
   "cell_type": "markdown",
   "source": [
    "## 准备工作\n",
    "\n",
    "\n"
   ],
   "id": "ac27f7efad08d675"
  },
  {
   "metadata": {},
   "cell_type": "markdown",
   "source": "### 依赖与环境\n",
   "id": "d3ef7651d5d8bec2"
  },
  {
   "metadata": {
    "ExecuteTime": {
     "end_time": "2025-07-12T05:19:22.796792Z",
     "start_time": "2025-07-12T05:19:20.969810Z"
    }
   },
   "cell_type": "code",
   "source": "!pip install \"pymilvus[model]==2.5.10\" openai==1.82.0 requests==2.32.3 tqdm==4.67.1 torch==2.7.0",
   "id": "429d8a16b47803a",
   "outputs": [
    {
     "name": "stdout",
     "output_type": "stream",
     "text": [
      "Requirement already satisfied: pymilvus==2.5.10 in d:\\pycharmprojects\\deepseek-excercise\\.venv\\lib\\site-packages (from pymilvus[model]==2.5.10) (2.5.10)\n",
      "Requirement already satisfied: openai==1.82.0 in d:\\pycharmprojects\\deepseek-excercise\\.venv\\lib\\site-packages (1.82.0)\n",
      "Requirement already satisfied: requests==2.32.3 in d:\\pycharmprojects\\deepseek-excercise\\.venv\\lib\\site-packages (2.32.3)\n",
      "Requirement already satisfied: tqdm==4.67.1 in d:\\pycharmprojects\\deepseek-excercise\\.venv\\lib\\site-packages (4.67.1)\n",
      "Requirement already satisfied: torch==2.7.0 in d:\\pycharmprojects\\deepseek-excercise\\.venv\\lib\\site-packages (2.7.0)\n",
      "Requirement already satisfied: setuptools>69 in d:\\pycharmprojects\\deepseek-excercise\\.venv\\lib\\site-packages (from pymilvus==2.5.10->pymilvus[model]==2.5.10) (80.9.0)\n",
      "Requirement already satisfied: grpcio<=1.67.1,>=1.49.1 in d:\\pycharmprojects\\deepseek-excercise\\.venv\\lib\\site-packages (from pymilvus==2.5.10->pymilvus[model]==2.5.10) (1.67.1)\n",
      "Requirement already satisfied: protobuf>=3.20.0 in d:\\pycharmprojects\\deepseek-excercise\\.venv\\lib\\site-packages (from pymilvus==2.5.10->pymilvus[model]==2.5.10) (6.31.1)\n",
      "Requirement already satisfied: python-dotenv<2.0.0,>=1.0.1 in d:\\pycharmprojects\\deepseek-excercise\\.venv\\lib\\site-packages (from pymilvus==2.5.10->pymilvus[model]==2.5.10) (1.1.1)\n",
      "Requirement already satisfied: ujson>=2.0.0 in d:\\pycharmprojects\\deepseek-excercise\\.venv\\lib\\site-packages (from pymilvus==2.5.10->pymilvus[model]==2.5.10) (5.10.0)\n",
      "Requirement already satisfied: pandas>=1.2.4 in d:\\pycharmprojects\\deepseek-excercise\\.venv\\lib\\site-packages (from pymilvus==2.5.10->pymilvus[model]==2.5.10) (2.3.0)\n",
      "Requirement already satisfied: anyio<5,>=3.5.0 in d:\\pycharmprojects\\deepseek-excercise\\.venv\\lib\\site-packages (from openai==1.82.0) (4.9.0)\n",
      "Requirement already satisfied: distro<2,>=1.7.0 in d:\\pycharmprojects\\deepseek-excercise\\.venv\\lib\\site-packages (from openai==1.82.0) (1.9.0)\n",
      "Requirement already satisfied: httpx<1,>=0.23.0 in d:\\pycharmprojects\\deepseek-excercise\\.venv\\lib\\site-packages (from openai==1.82.0) (0.28.1)\n",
      "Requirement already satisfied: jiter<1,>=0.4.0 in d:\\pycharmprojects\\deepseek-excercise\\.venv\\lib\\site-packages (from openai==1.82.0) (0.10.0)\n",
      "Requirement already satisfied: pydantic<3,>=1.9.0 in d:\\pycharmprojects\\deepseek-excercise\\.venv\\lib\\site-packages (from openai==1.82.0) (2.11.7)\n",
      "Requirement already satisfied: sniffio in d:\\pycharmprojects\\deepseek-excercise\\.venv\\lib\\site-packages (from openai==1.82.0) (1.3.1)\n",
      "Requirement already satisfied: typing-extensions<5,>=4.11 in d:\\pycharmprojects\\deepseek-excercise\\.venv\\lib\\site-packages (from openai==1.82.0) (4.14.0)\n",
      "Requirement already satisfied: charset-normalizer<4,>=2 in d:\\pycharmprojects\\deepseek-excercise\\.venv\\lib\\site-packages (from requests==2.32.3) (3.4.2)\n",
      "Requirement already satisfied: idna<4,>=2.5 in d:\\pycharmprojects\\deepseek-excercise\\.venv\\lib\\site-packages (from requests==2.32.3) (3.10)\n",
      "Requirement already satisfied: urllib3<3,>=1.21.1 in d:\\pycharmprojects\\deepseek-excercise\\.venv\\lib\\site-packages (from requests==2.32.3) (2.5.0)\n",
      "Requirement already satisfied: certifi>=2017.4.17 in d:\\pycharmprojects\\deepseek-excercise\\.venv\\lib\\site-packages (from requests==2.32.3) (2025.6.15)\n",
      "Requirement already satisfied: colorama in d:\\pycharmprojects\\deepseek-excercise\\.venv\\lib\\site-packages (from tqdm==4.67.1) (0.4.6)\n",
      "Requirement already satisfied: filelock in d:\\pycharmprojects\\deepseek-excercise\\.venv\\lib\\site-packages (from torch==2.7.0) (3.18.0)\n",
      "Requirement already satisfied: sympy>=1.13.3 in d:\\pycharmprojects\\deepseek-excercise\\.venv\\lib\\site-packages (from torch==2.7.0) (1.14.0)\n",
      "Requirement already satisfied: networkx in d:\\pycharmprojects\\deepseek-excercise\\.venv\\lib\\site-packages (from torch==2.7.0) (3.5)\n",
      "Requirement already satisfied: jinja2 in d:\\pycharmprojects\\deepseek-excercise\\.venv\\lib\\site-packages (from torch==2.7.0) (3.1.6)\n",
      "Requirement already satisfied: fsspec in d:\\pycharmprojects\\deepseek-excercise\\.venv\\lib\\site-packages (from torch==2.7.0) (2025.5.1)\n",
      "Requirement already satisfied: pymilvus.model>=0.3.0 in d:\\pycharmprojects\\deepseek-excercise\\.venv\\lib\\site-packages (from pymilvus[model]==2.5.10) (0.3.2)\n",
      "Requirement already satisfied: httpcore==1.* in d:\\pycharmprojects\\deepseek-excercise\\.venv\\lib\\site-packages (from httpx<1,>=0.23.0->openai==1.82.0) (1.0.9)\n",
      "Requirement already satisfied: h11>=0.16 in d:\\pycharmprojects\\deepseek-excercise\\.venv\\lib\\site-packages (from httpcore==1.*->httpx<1,>=0.23.0->openai==1.82.0) (0.16.0)\n",
      "Requirement already satisfied: annotated-types>=0.6.0 in d:\\pycharmprojects\\deepseek-excercise\\.venv\\lib\\site-packages (from pydantic<3,>=1.9.0->openai==1.82.0) (0.7.0)\n",
      "Requirement already satisfied: pydantic-core==2.33.2 in d:\\pycharmprojects\\deepseek-excercise\\.venv\\lib\\site-packages (from pydantic<3,>=1.9.0->openai==1.82.0) (2.33.2)\n",
      "Requirement already satisfied: typing-inspection>=0.4.0 in d:\\pycharmprojects\\deepseek-excercise\\.venv\\lib\\site-packages (from pydantic<3,>=1.9.0->openai==1.82.0) (0.4.1)\n",
      "Requirement already satisfied: numpy>=1.26.0 in d:\\pycharmprojects\\deepseek-excercise\\.venv\\lib\\site-packages (from pandas>=1.2.4->pymilvus==2.5.10->pymilvus[model]==2.5.10) (2.3.1)\n",
      "Requirement already satisfied: python-dateutil>=2.8.2 in d:\\pycharmprojects\\deepseek-excercise\\.venv\\lib\\site-packages (from pandas>=1.2.4->pymilvus==2.5.10->pymilvus[model]==2.5.10) (2.9.0.post0)\n",
      "Requirement already satisfied: pytz>=2020.1 in d:\\pycharmprojects\\deepseek-excercise\\.venv\\lib\\site-packages (from pandas>=1.2.4->pymilvus==2.5.10->pymilvus[model]==2.5.10) (2025.2)\n",
      "Requirement already satisfied: tzdata>=2022.7 in d:\\pycharmprojects\\deepseek-excercise\\.venv\\lib\\site-packages (from pandas>=1.2.4->pymilvus==2.5.10->pymilvus[model]==2.5.10) (2025.2)\n",
      "Requirement already satisfied: transformers>=4.36.0 in d:\\pycharmprojects\\deepseek-excercise\\.venv\\lib\\site-packages (from pymilvus.model>=0.3.0->pymilvus[model]==2.5.10) (4.53.0)\n",
      "Requirement already satisfied: onnxruntime in d:\\pycharmprojects\\deepseek-excercise\\.venv\\lib\\site-packages (from pymilvus.model>=0.3.0->pymilvus[model]==2.5.10) (1.22.0)\n",
      "Requirement already satisfied: scipy>=1.10.0 in d:\\pycharmprojects\\deepseek-excercise\\.venv\\lib\\site-packages (from pymilvus.model>=0.3.0->pymilvus[model]==2.5.10) (1.16.0)\n",
      "Requirement already satisfied: six>=1.5 in d:\\pycharmprojects\\deepseek-excercise\\.venv\\lib\\site-packages (from python-dateutil>=2.8.2->pandas>=1.2.4->pymilvus==2.5.10->pymilvus[model]==2.5.10) (1.17.0)\n",
      "Requirement already satisfied: mpmath<1.4,>=1.1.0 in d:\\pycharmprojects\\deepseek-excercise\\.venv\\lib\\site-packages (from sympy>=1.13.3->torch==2.7.0) (1.3.0)\n",
      "Requirement already satisfied: huggingface-hub<1.0,>=0.30.0 in d:\\pycharmprojects\\deepseek-excercise\\.venv\\lib\\site-packages (from transformers>=4.36.0->pymilvus.model>=0.3.0->pymilvus[model]==2.5.10) (0.33.2)\n",
      "Requirement already satisfied: packaging>=20.0 in d:\\pycharmprojects\\deepseek-excercise\\.venv\\lib\\site-packages (from transformers>=4.36.0->pymilvus.model>=0.3.0->pymilvus[model]==2.5.10) (25.0)\n",
      "Requirement already satisfied: pyyaml>=5.1 in d:\\pycharmprojects\\deepseek-excercise\\.venv\\lib\\site-packages (from transformers>=4.36.0->pymilvus.model>=0.3.0->pymilvus[model]==2.5.10) (6.0.2)\n",
      "Requirement already satisfied: regex!=2019.12.17 in d:\\pycharmprojects\\deepseek-excercise\\.venv\\lib\\site-packages (from transformers>=4.36.0->pymilvus.model>=0.3.0->pymilvus[model]==2.5.10) (2024.11.6)\n",
      "Requirement already satisfied: tokenizers<0.22,>=0.21 in d:\\pycharmprojects\\deepseek-excercise\\.venv\\lib\\site-packages (from transformers>=4.36.0->pymilvus.model>=0.3.0->pymilvus[model]==2.5.10) (0.21.2)\n",
      "Requirement already satisfied: safetensors>=0.4.3 in d:\\pycharmprojects\\deepseek-excercise\\.venv\\lib\\site-packages (from transformers>=4.36.0->pymilvus.model>=0.3.0->pymilvus[model]==2.5.10) (0.5.3)\n",
      "Requirement already satisfied: MarkupSafe>=2.0 in d:\\pycharmprojects\\deepseek-excercise\\.venv\\lib\\site-packages (from jinja2->torch==2.7.0) (3.0.2)\n",
      "Requirement already satisfied: coloredlogs in d:\\pycharmprojects\\deepseek-excercise\\.venv\\lib\\site-packages (from onnxruntime->pymilvus.model>=0.3.0->pymilvus[model]==2.5.10) (15.0.1)\n",
      "Requirement already satisfied: flatbuffers in d:\\pycharmprojects\\deepseek-excercise\\.venv\\lib\\site-packages (from onnxruntime->pymilvus.model>=0.3.0->pymilvus[model]==2.5.10) (25.2.10)\n",
      "Requirement already satisfied: humanfriendly>=9.1 in d:\\pycharmprojects\\deepseek-excercise\\.venv\\lib\\site-packages (from coloredlogs->onnxruntime->pymilvus.model>=0.3.0->pymilvus[model]==2.5.10) (10.0)\n",
      "Requirement already satisfied: pyreadline3 in d:\\pycharmprojects\\deepseek-excercise\\.venv\\lib\\site-packages (from humanfriendly>=9.1->coloredlogs->onnxruntime->pymilvus.model>=0.3.0->pymilvus[model]==2.5.10) (3.5.4)\n"
     ]
    }
   ],
   "execution_count": 12
  },
  {
   "metadata": {
    "ExecuteTime": {
     "end_time": "2025-07-12T05:19:16.444654Z",
     "start_time": "2025-07-12T05:19:16.434475Z"
    }
   },
   "cell_type": "code",
   "source": [
    "import os\n",
    "\n",
    "#从环境变量中获取DeepSeek API Key\n",
    "api_key = os.getenv(\"DEEPSEEK_API_KEY\")\n",
    "os.environ[\"HF_ENDPOINT\"] = \"https://hf-mirror.com\"\n",
    "os.environ[\"HUGGINGFACE_CO_URL_HOME\"] = \"https://hf-mirror.com\""
   ],
   "id": "fdf312ee55e5b878",
   "outputs": [],
   "execution_count": 11
  },
  {
   "metadata": {
    "ExecuteTime": {
     "end_time": "2025-07-12T05:19:29.844078Z",
     "start_time": "2025-07-12T05:19:29.833559Z"
    }
   },
   "cell_type": "code",
   "source": [
    "from glob import glob\n",
    "text_lines = []\n",
    "for file in glob(\"D:/PycharmProjects/deepseek-excercise/milvus_docs/en/faq/*.md\", recursive=True):\n",
    "    with open(file, \"r\", encoding=\"utf-8\") as f:\n",
    "        file_text = f.read()\n",
    "\n",
    "    text_lines += file_text.split(\"# \")"
   ],
   "id": "14b42a74b271a177",
   "outputs": [],
   "execution_count": 14
  },
  {
   "metadata": {
    "ExecuteTime": {
     "end_time": "2025-07-12T05:07:49.931667Z",
     "start_time": "2025-07-12T05:07:49.927621Z"
    }
   },
   "cell_type": "code",
   "source": "len(text_lines)",
   "id": "9ebd730a9a28299e",
   "outputs": [
    {
     "data": {
      "text/plain": [
       "72"
      ]
     },
     "execution_count": 6,
     "metadata": {},
     "output_type": "execute_result"
    }
   ],
   "execution_count": 6
  },
  {
   "metadata": {
    "ExecuteTime": {
     "end_time": "2025-07-12T05:07:52.319229Z",
     "start_time": "2025-07-12T05:07:51.854430Z"
    }
   },
   "cell_type": "code",
   "source": [
    "from openai import OpenAI\n",
    "\n",
    "deepseek_client = OpenAI(\n",
    "    api_key=api_key,\n",
    "    base_url=\"https://api.deepseek.com/v1\", # Deepseek API的基地址\n",
    ")"
   ],
   "id": "2d2ef8fc0af8b478",
   "outputs": [],
   "execution_count": 7
  },
  {
   "metadata": {
    "ExecuteTime": {
     "end_time": "2025-07-12T05:19:27.076292Z",
     "start_time": "2025-07-12T05:19:25.174650Z"
    }
   },
   "cell_type": "code",
   "source": [
    "from pymilvus import model as milvus_model\n",
    "\n",
    "embedding_model = milvus_model.DefaultEmbeddingFunction()"
   ],
   "id": "8167396916c33508",
   "outputs": [],
   "execution_count": 13
  },
  {
   "metadata": {
    "ExecuteTime": {
     "end_time": "2025-07-12T05:19:41.700884Z",
     "start_time": "2025-07-12T05:19:41.181161Z"
    }
   },
   "cell_type": "code",
   "source": [
    "test_embedding = embedding_model.encode_queries([\"This is a test\"])[0]\n",
    "embedding_dim = len(test_embedding)\n",
    "print(embedding_dim)\n",
    "print(test_embedding[:10])"
   ],
   "id": "409a4afc15f3e1e8",
   "outputs": [
    {
     "name": "stdout",
     "output_type": "stream",
     "text": [
      "768\n",
      "[-0.04836059  0.07163021 -0.01130063 -0.03789341 -0.03320651 -0.01318453\n",
      " -0.03041721 -0.02269495 -0.02317858 -0.00426026]\n"
     ]
    }
   ],
   "execution_count": 15
  },
  {
   "metadata": {
    "ExecuteTime": {
     "end_time": "2025-07-12T05:19:43.790427Z",
     "start_time": "2025-07-12T05:19:43.494399Z"
    }
   },
   "cell_type": "code",
   "source": [
    "test_embedding_0 = embedding_model.encode_queries([\"That is a test\"])[0]\n",
    "print(test_embedding_0[:10])"
   ],
   "id": "97744ff10c0c1ad3",
   "outputs": [
    {
     "name": "stdout",
     "output_type": "stream",
     "text": [
      "[-0.02752976  0.0608853   0.00388525 -0.00215193 -0.02774976 -0.0118618\n",
      " -0.04020916 -0.06023417 -0.03813156  0.0100272 ]\n"
     ]
    }
   ],
   "execution_count": 16
  },
  {
   "metadata": {
    "ExecuteTime": {
     "end_time": "2025-07-12T05:19:46.473637Z",
     "start_time": "2025-07-12T05:19:45.770478Z"
    }
   },
   "cell_type": "code",
   "source": [
    "from pymilvus import MilvusClient\n",
    "milvus_client = MilvusClient(uri=\"http://43.163.9.210:19530\")\n",
    "collection_name=(\"my_rag_collection\")"
   ],
   "id": "b8f3417543b707f3",
   "outputs": [],
   "execution_count": 17
  },
  {
   "metadata": {
    "ExecuteTime": {
     "end_time": "2025-07-12T05:19:49.559865Z",
     "start_time": "2025-07-12T05:19:49.089420Z"
    }
   },
   "cell_type": "code",
   "source": [
    "if milvus_client.has_collection(collection_name):\n",
    "    milvus_client.drop_collection(collection_name)"
   ],
   "id": "a42e0d09932f1b10",
   "outputs": [],
   "execution_count": 18
  },
  {
   "metadata": {},
   "cell_type": "markdown",
   "source": [
    "创建一个具有指定参数的新 collection。\n",
    "\n",
    "如果我们不指定任何字段信息，Milvus 将自动创建一个默认的 `id` 字段作为主键，以及一个 `vector` 字段来存储向量数据。一个保留的 JSON 字段用于存储非 schema 定义的字段及其值。\n",
    "\n",
    "`metric_type` (距离度量类型):\n",
    "     作用：定义如何计算向量之间的相似程度。\n",
    "     例如：`IP` (内积) - 值越大通常越相似；`L2` (欧氏距离) - 值越小越相似；`COSINE` (余弦相似度) - 通常转换为距离，值越小越相似。\n",
    "     选择依据：根据你的嵌入模型的特性和期望的相似性定义来选择。\n",
    "\n",
    " `consistency_level` (一致性级别):\n",
    "     作用：定义数据写入后，读取操作能多快看到这些新数据。\n",
    "     例如：\n",
    "         `Strong` (强一致性): 总是读到最新数据，可能稍慢。\n",
    "         `Bounded` (有界过期): 可能读到几秒内旧数据，性能较好 (默认)。\n",
    "         `Session` (会话一致性): 自己写入的自己能立刻读到。\n",
    "         `Eventually` (最终一致性): 最终会读到新数据，但没时间保证，性能最好。\n",
    "     选择依据：在数据实时性要求和系统性能之间做权衡。\n",
    "\n",
    "简单来说：\n",
    " `metric_type`：怎么算相似。\n",
    " `consistency_level`：新数据多久能被读到。\n"
   ],
   "id": "f747cb2f8102f47c"
  },
  {
   "metadata": {
    "ExecuteTime": {
     "end_time": "2025-07-12T05:19:54.493132Z",
     "start_time": "2025-07-12T05:19:51.586405Z"
    }
   },
   "cell_type": "code",
   "source": [
    "milvus_client.create_collection(\n",
    "    collection_name=collection_name,\n",
    "    dimension=embedding_dim,\n",
    "    metric_type=\"IP\",  # 内积距离\n",
    "    consistency_level=\"Strong\",  # 支持的值为 (`\"Strong\"`, `\"Session\"`, `\"Bounded\"`, `\"Eventually\"`)。更多详情请参见 https://milvus.io/docs/consistency.md#Consistency-Level。\n",
    ")"
   ],
   "id": "fb3bf258304e5ac2",
   "outputs": [],
   "execution_count": 19
  },
  {
   "metadata": {},
   "cell_type": "markdown",
   "source": "### 插入数据",
   "id": "7cc0c08d65e4037d"
  },
  {
   "metadata": {},
   "cell_type": "markdown",
   "source": [
    "遍历文本行，创建嵌入，然后将数据插入 Milvus。\n",
    "\n",
    "这里有一个新字段 `text`，它是在 collection schema 中未定义的字段。它将自动添加到保留的 JSON 动态字段中，该字段在高级别上可以被视为普通字段。"
   ],
   "id": "23428bb5186be9f1"
  },
  {
   "metadata": {
    "ExecuteTime": {
     "end_time": "2025-07-12T05:20:16.828671Z",
     "start_time": "2025-07-12T05:19:57.349862Z"
    }
   },
   "cell_type": "code",
   "source": [
    "from tqdm import tqdm\n",
    "\n",
    "data = []\n",
    "\n",
    "doc_embeddings = embedding_model.encode_documents(text_lines)\n",
    "\n",
    "for i, line in enumerate(tqdm(text_lines, desc=\"Creating embeddings\")):\n",
    "    data.append({\"id\": i, \"vector\": doc_embeddings[i], \"text\": line})\n",
    "\n",
    "milvus_client.insert(collection_name=collection_name, data=data)"
   ],
   "id": "db717dd875d891dd",
   "outputs": [
    {
     "name": "stderr",
     "output_type": "stream",
     "text": [
      "Creating embeddings: 100%|██████████| 72/72 [00:00<00:00, 312295.64it/s]\n"
     ]
    },
    {
     "data": {
      "text/plain": [
       "{'insert_count': 72, 'ids': [0, 1, 2, 3, 4, 5, 6, 7, 8, 9, 10, 11, 12, 13, 14, 15, 16, 17, 18, 19, 20, 21, 22, 23, 24, 25, 26, 27, 28, 29, 30, 31, 32, 33, 34, 35, 36, 37, 38, 39, 40, 41, 42, 43, 44, 45, 46, 47, 48, 49, 50, 51, 52, 53, 54, 55, 56, 57, 58, 59, 60, 61, 62, 63, 64, 65, 66, 67, 68, 69, 70, 71], 'cost': 0}"
      ]
     },
     "execution_count": 20,
     "metadata": {},
     "output_type": "execute_result"
    }
   ],
   "execution_count": 20
  },
  {
   "metadata": {
    "ExecuteTime": {
     "end_time": "2025-07-12T05:20:20.447473Z",
     "start_time": "2025-07-12T05:20:20.443505Z"
    }
   },
   "cell_type": "code",
   "source": "question = \"How is data stored in milvus?\"",
   "id": "8ef8de513ba4f262",
   "outputs": [],
   "execution_count": 21
  },
  {
   "metadata": {},
   "cell_type": "markdown",
   "source": "在 collection 中搜索该问题，并检索语义上最匹配的前3个结果。",
   "id": "184bed29d3fc2c0a"
  },
  {
   "metadata": {},
   "cell_type": "markdown",
   "source": [
    "`metric_type` (距离度量类型):\n",
    "     作用：定义如何计算向量之间的相似程度。\n",
    "     例如：`IP` (内积) - 值越大通常越相似；`L2` (欧氏距离) - 值越小越相似；`COSINE` (余弦相似度) - 通常转换为距离，值越小越相似。\n",
    "     选择依据：根据你的嵌入模型的特性和期望的相似性定义来选择。\n",
    "\n",
    " `consistency_level` (一致性级别):\n",
    "     作用：定义数据写入后，读取操作能多快看到这些新数据。\n",
    "     例如：\n",
    "         `Strong` (强一致性): 总是读到最新数据，可能稍慢。\n",
    "         `Bounded` (有界过期): 可能读到几秒内旧数据，性能较好 (默认)。\n",
    "         `Session` (会话一致性): 自己写入的自己能立刻读到。\n",
    "         `Eventually` (最终一致性): 最终会读到新数据，但没时间保证，性能最好。\n",
    "     选择依据：在数据实时性要求和系统性能之间做权衡。\n",
    "\n",
    "简单来说：\n",
    " `metric_type`：怎么算相似。\n",
    " `consistency_level`：新数据多久能被读到。"
   ],
   "id": "5160d6dcc9af8120"
  },
  {
   "metadata": {
    "ExecuteTime": {
     "end_time": "2025-07-12T05:20:23.856711Z",
     "start_time": "2025-07-12T05:20:22.875091Z"
    }
   },
   "cell_type": "code",
   "source": [
    "import json\n",
    "question = \"How is data stored in milvus?\"\n",
    "search_res = milvus_client.search(\n",
    "    collection_name=collection_name,\n",
    "    data=embedding_model.encode_queries([question]),\n",
    "    limit=3,\n",
    "    search_params={\"metric_type\":\"IP\", \"params\":{}}, # 内积距离\n",
    "    output_fields=[\"text\"],\n",
    ")\n",
    "\n",
    "retrieved_lines_with_distances = [(res[\"entity\"][\"text\"], res[\"distance\"]) for res in search_res[0]]\n",
    "print(json.dumps(retrieved_lines_with_distances, indent=4))"
   ],
   "id": "c9339ee0175dcf05",
   "outputs": [
    {
     "name": "stdout",
     "output_type": "stream",
     "text": [
      "[\n",
      "    [\n",
      "        \" Where does Milvus store data?\\n\\nMilvus deals with two types of data, inserted data and metadata. \\n\\nInserted data, including vector data, scalar data, and collection-specific schema, are stored in persistent storage as incremental log. Milvus supports multiple object storage backends, including [MinIO](https://min.io/), [AWS S3](https://aws.amazon.com/s3/?nc1=h_ls), [Google Cloud Storage](https://cloud.google.com/storage?hl=en#object-storage-for-companies-of-all-sizes) (GCS), [Azure Blob Storage](https://azure.microsoft.com/en-us/products/storage/blobs), [Alibaba Cloud OSS](https://www.alibabacloud.com/product/object-storage-service), and [Tencent Cloud Object Storage](https://www.tencentcloud.com/products/cos) (COS).\\n\\nMetadata are generated within Milvus. Each Milvus module has its own metadata that are stored in etcd.\\n\\n###\",\n",
      "        0.65726637840271\n",
      "    ],\n",
      "    [\n",
      "        \"How does Milvus flush data?\\n\\nMilvus returns success when inserted data are loaded to the message queue. However, the data are not yet flushed to the disk. Then Milvus' data node writes the data in the message queue to persistent storage as incremental logs. If `flush()` is called, the data node is forced to write all data in the message queue to persistent storage immediately.\\n\\n###\",\n",
      "        0.6312144994735718\n",
      "    ],\n",
      "    [\n",
      "        \"How does Milvus handle vector data types and precision?\\n\\nMilvus supports Binary, Float32, Float16, and BFloat16 vector types.\\n\\n- Binary vectors: Store binary data as sequences of 0s and 1s, used in image processing and information retrieval.\\n- Float32 vectors: Default storage with a precision of about 7 decimal digits. Even Float64 values are stored with Float32 precision, leading to potential precision loss upon retrieval.\\n- Float16 and BFloat16 vectors: Offer reduced precision and memory usage. Float16 is suitable for applications with limited bandwidth and storage, while BFloat16 balances range and efficiency, commonly used in deep learning to reduce computational requirements without significantly impacting accuracy.\\n\\n###\",\n",
      "        0.6115782856941223\n",
      "    ]\n",
      "]\n"
     ]
    }
   ],
   "execution_count": 22
  },
  {
   "metadata": {},
   "cell_type": "markdown",
   "source": "### 使用 LLM 获取 RAG 响应",
   "id": "1be1ccbf9c2600b"
  },
  {
   "metadata": {},
   "cell_type": "markdown",
   "source": "将检索到的文档转换为字符串格式。",
   "id": "d91c6b5567d493ac"
  },
  {
   "metadata": {
    "ExecuteTime": {
     "end_time": "2025-07-12T05:20:26.651861Z",
     "start_time": "2025-07-12T05:20:26.648743Z"
    }
   },
   "cell_type": "code",
   "source": "context=\"\\n\".join([line_with_distance[0] for line_with_distance in retrieved_lines_with_distances])",
   "id": "91389bacc82aa05a",
   "outputs": [],
   "execution_count": 23
  },
  {
   "metadata": {
    "ExecuteTime": {
     "end_time": "2025-07-12T05:20:29.313585Z",
     "start_time": "2025-07-12T05:20:29.309360Z"
    }
   },
   "cell_type": "code",
   "source": "context",
   "id": "f701594bec2aabfa",
   "outputs": [
    {
     "data": {
      "text/plain": [
       "\" Where does Milvus store data?\\n\\nMilvus deals with two types of data, inserted data and metadata. \\n\\nInserted data, including vector data, scalar data, and collection-specific schema, are stored in persistent storage as incremental log. Milvus supports multiple object storage backends, including [MinIO](https://min.io/), [AWS S3](https://aws.amazon.com/s3/?nc1=h_ls), [Google Cloud Storage](https://cloud.google.com/storage?hl=en#object-storage-for-companies-of-all-sizes) (GCS), [Azure Blob Storage](https://azure.microsoft.com/en-us/products/storage/blobs), [Alibaba Cloud OSS](https://www.alibabacloud.com/product/object-storage-service), and [Tencent Cloud Object Storage](https://www.tencentcloud.com/products/cos) (COS).\\n\\nMetadata are generated within Milvus. Each Milvus module has its own metadata that are stored in etcd.\\n\\n###\\nHow does Milvus flush data?\\n\\nMilvus returns success when inserted data are loaded to the message queue. However, the data are not yet flushed to the disk. Then Milvus' data node writes the data in the message queue to persistent storage as incremental logs. If `flush()` is called, the data node is forced to write all data in the message queue to persistent storage immediately.\\n\\n###\\nHow does Milvus handle vector data types and precision?\\n\\nMilvus supports Binary, Float32, Float16, and BFloat16 vector types.\\n\\n- Binary vectors: Store binary data as sequences of 0s and 1s, used in image processing and information retrieval.\\n- Float32 vectors: Default storage with a precision of about 7 decimal digits. Even Float64 values are stored with Float32 precision, leading to potential precision loss upon retrieval.\\n- Float16 and BFloat16 vectors: Offer reduced precision and memory usage. Float16 is suitable for applications with limited bandwidth and storage, while BFloat16 balances range and efficiency, commonly used in deep learning to reduce computational requirements without significantly impacting accuracy.\\n\\n###\""
      ]
     },
     "execution_count": 24,
     "metadata": {},
     "output_type": "execute_result"
    }
   ],
   "execution_count": 24
  },
  {
   "metadata": {
    "ExecuteTime": {
     "end_time": "2025-07-12T05:20:31.213698Z",
     "start_time": "2025-07-12T05:20:31.210187Z"
    }
   },
   "cell_type": "code",
   "source": "question",
   "id": "c6daac4e1139cc62",
   "outputs": [
    {
     "data": {
      "text/plain": [
       "'How is data stored in milvus?'"
      ]
     },
     "execution_count": 25,
     "metadata": {},
     "output_type": "execute_result"
    }
   ],
   "execution_count": 25
  },
  {
   "metadata": {},
   "cell_type": "markdown",
   "source": "为语言模型定义系统和用户提示。此提示是使用从 Milvus 检索到的文档组装而成的。\n",
   "id": "af599f32b18e63a6"
  },
  {
   "metadata": {
    "ExecuteTime": {
     "end_time": "2025-07-12T05:20:33.000628Z",
     "start_time": "2025-07-12T05:20:32.998324Z"
    }
   },
   "cell_type": "code",
   "source": [
    "SYSTEM_PROMPT = \"\"\"\n",
    "Human: 你是一个 AI 助手。你能够从提供的上下文段落片段中找到问题的答案。\n",
    "\"\"\"\n",
    "USER_PROMPT = f\"\"\"\n",
    "请使用以下用 <context> 标签括起来的信息片段来回答用 <question> 标签括起来的问题。最后追加原始回答的中文翻译，并用 <translated>和</translated> 标签标注。\n",
    "<context>\n",
    "{context}\n",
    "</context>\n",
    "<question>\n",
    "{question}\n",
    "</question>\n",
    "<translated>\n",
    "</translated>\n",
    "\"\"\""
   ],
   "id": "ffe351e86958b5b8",
   "outputs": [],
   "execution_count": 26
  },
  {
   "metadata": {},
   "cell_type": "markdown",
   "source": "使用 DeepSeek 提供的 `deepseek-chat` 模型根据提示生成响应。",
   "id": "70189b9dc7d37905"
  },
  {
   "metadata": {
    "ExecuteTime": {
     "end_time": "2025-07-12T05:20:50.224688Z",
     "start_time": "2025-07-12T05:20:35.022507Z"
    }
   },
   "cell_type": "code",
   "source": [
    "response = deepseek_client.chat.completions.create(\n",
    "    model=\"deepseek-chat\",\n",
    "    messages=[\n",
    "        {\"role\": \"system\", \"content\": SYSTEM_PROMPT},\n",
    "        {\"role\": \"user\", \"content\": USER_PROMPT},\n",
    "    ],\n",
    ")\n",
    "print(response.choices[0].message.content)"
   ],
   "id": "dd9ec97c8e45e646",
   "outputs": [
    {
     "name": "stdout",
     "output_type": "stream",
     "text": [
      "Milvus stores data in two main categories: inserted data and metadata.\n",
      "\n",
      "1. **Inserted Data** (including vector data, scalar data, and collection schemas) is stored as incremental logs in persistent storage. Supported storage backends include:\n",
      "   - MinIO\n",
      "   - AWS S3  \n",
      "   - Google Cloud Storage (GCS)\n",
      "   - Azure Blob Storage\n",
      "   - Alibaba Cloud OSS\n",
      "   - Tencent Cloud Object Storage (COS)\n",
      "\n",
      "2. **Metadata** (generated internally by Milvus modules) is stored in etcd.\n",
      "\n",
      "For vector data specifically, Milvus supports multiple precision formats:\n",
      "- Binary vectors (0s/1s)\n",
      "- Float32 (default, ~7 decimal digits)\n",
      "- Float16/BFloat16 (reduced precision for efficiency)\n",
      "\n",
      "<translated>\n",
      "Milvus以两种主要类型存储数据：插入数据和元数据。\n",
      "\n",
      "1. **插入数据**（包括向量数据、标量数据和集合模式）以增量日志形式存储在持久化存储中，支持的后端包括：\n",
      "   - MinIO\n",
      "   - AWS S3\n",
      "   - 谷歌云存储(GCS)\n",
      "   - Azure Blob存储\n",
      "   - 阿里云OSS\n",
      "   - 腾讯云对象存储(COS)\n",
      "\n",
      "2. **元数据**（由Milvus模块内部生成）存储在etcd中。\n",
      "\n",
      "对于向量数据，Milvus支持多种精度格式：\n",
      "- 二进制向量（0/1）\n",
      "- Float32（默认，约7位小数精度）\n",
      "- Float16/BFloat16（降低精度以提高效率）\n",
      "</translated>\n"
     ]
    }
   ],
   "execution_count": 27
  }
 ],
 "metadata": {
  "kernelspec": {
   "display_name": "Python 3",
   "language": "python",
   "name": "python3"
  },
  "language_info": {
   "codemirror_mode": {
    "name": "ipython",
    "version": 2
   },
   "file_extension": ".py",
   "mimetype": "text/x-python",
   "name": "python",
   "nbconvert_exporter": "python",
   "pygments_lexer": "ipython2",
   "version": "2.7.6"
  }
 },
 "nbformat": 4,
 "nbformat_minor": 5
}
