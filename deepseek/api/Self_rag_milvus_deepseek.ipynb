{
 "cells": [
  {
   "metadata": {},
   "cell_type": "markdown",
   "source": [
    "# 作业：使用 Milvus 和 DeepSeek,以民法典文档为本地知识库，构建RAG，向其提出问题并查看生成结果。\n",
    "\n",
    "DeepSeek\n",
    "帮助开发者使用高性能语言模型构建和扩展\n",
    "AI\n",
    "应用。它提供高效的推理、灵活的\n",
    "API\n",
    "以及先进的专家混合(MoE)\n",
    "架构，用于强大的推理和检索任务。\n",
    "\n"
   ],
   "id": "1cd0595ccc5429e1"
  },
  {
   "metadata": {},
   "cell_type": "markdown",
   "source": [
    "## 准备工作\n",
    "\n",
    "\n"
   ],
   "id": "ac27f7efad08d675"
  },
  {
   "metadata": {},
   "cell_type": "markdown",
   "source": "### 依赖与环境\n",
   "id": "d3ef7651d5d8bec2"
  },
  {
   "metadata": {
    "ExecuteTime": {
     "end_time": "2025-07-02T14:02:13.850434Z",
     "start_time": "2025-07-02T14:01:23.454798Z"
    }
   },
   "cell_type": "code",
   "source": [
    "from deepseek.api.rag_milvus_deepseek import test_embedding, collection_name\n",
    "from onnxruntime.transformers.models.sam2.prompt_encoder import test_prompt_encoder_onnx\n",
    "!pip install \"pymilvus[model]==2.5.10\" openai==1.82.0 requests==2.32.3 tqdm==4.67.1 torch==2.7.0"
   ],
   "id": "429d8a16b47803a",
   "outputs": [
    {
     "name": "stdout",
     "output_type": "stream",
     "text": [
      "Requirement already satisfied: pymilvus==2.5.10 in d:\\pycharmprojects\\deepseek-excercise\\.venv\\lib\\site-packages (from pymilvus[model]==2.5.10) (2.5.10)\n",
      "Requirement already satisfied: openai==1.82.0 in d:\\pycharmprojects\\deepseek-excercise\\.venv\\lib\\site-packages (1.82.0)\n",
      "Requirement already satisfied: requests==2.32.3 in d:\\pycharmprojects\\deepseek-excercise\\.venv\\lib\\site-packages (2.32.3)\n",
      "Requirement already satisfied: tqdm==4.67.1 in d:\\pycharmprojects\\deepseek-excercise\\.venv\\lib\\site-packages (4.67.1)\n",
      "Requirement already satisfied: torch==2.7.0 in d:\\pycharmprojects\\deepseek-excercise\\.venv\\lib\\site-packages (2.7.0)\n",
      "Requirement already satisfied: setuptools>69 in d:\\pycharmprojects\\deepseek-excercise\\.venv\\lib\\site-packages (from pymilvus==2.5.10->pymilvus[model]==2.5.10) (80.9.0)\n",
      "Requirement already satisfied: grpcio<=1.67.1,>=1.49.1 in d:\\pycharmprojects\\deepseek-excercise\\.venv\\lib\\site-packages (from pymilvus==2.5.10->pymilvus[model]==2.5.10) (1.67.1)\n",
      "Requirement already satisfied: protobuf>=3.20.0 in d:\\pycharmprojects\\deepseek-excercise\\.venv\\lib\\site-packages (from pymilvus==2.5.10->pymilvus[model]==2.5.10) (6.31.1)\n",
      "Requirement already satisfied: python-dotenv<2.0.0,>=1.0.1 in d:\\pycharmprojects\\deepseek-excercise\\.venv\\lib\\site-packages (from pymilvus==2.5.10->pymilvus[model]==2.5.10) (1.1.1)\n",
      "Requirement already satisfied: ujson>=2.0.0 in d:\\pycharmprojects\\deepseek-excercise\\.venv\\lib\\site-packages (from pymilvus==2.5.10->pymilvus[model]==2.5.10) (5.10.0)\n",
      "Requirement already satisfied: pandas>=1.2.4 in d:\\pycharmprojects\\deepseek-excercise\\.venv\\lib\\site-packages (from pymilvus==2.5.10->pymilvus[model]==2.5.10) (2.3.0)\n",
      "Requirement already satisfied: anyio<5,>=3.5.0 in d:\\pycharmprojects\\deepseek-excercise\\.venv\\lib\\site-packages (from openai==1.82.0) (4.9.0)\n",
      "Requirement already satisfied: distro<2,>=1.7.0 in d:\\pycharmprojects\\deepseek-excercise\\.venv\\lib\\site-packages (from openai==1.82.0) (1.9.0)\n",
      "Requirement already satisfied: httpx<1,>=0.23.0 in d:\\pycharmprojects\\deepseek-excercise\\.venv\\lib\\site-packages (from openai==1.82.0) (0.28.1)\n",
      "Requirement already satisfied: jiter<1,>=0.4.0 in d:\\pycharmprojects\\deepseek-excercise\\.venv\\lib\\site-packages (from openai==1.82.0) (0.10.0)\n",
      "Requirement already satisfied: pydantic<3,>=1.9.0 in d:\\pycharmprojects\\deepseek-excercise\\.venv\\lib\\site-packages (from openai==1.82.0) (2.11.7)\n",
      "Requirement already satisfied: sniffio in d:\\pycharmprojects\\deepseek-excercise\\.venv\\lib\\site-packages (from openai==1.82.0) (1.3.1)\n",
      "Requirement already satisfied: typing-extensions<5,>=4.11 in d:\\pycharmprojects\\deepseek-excercise\\.venv\\lib\\site-packages (from openai==1.82.0) (4.14.0)\n",
      "Requirement already satisfied: charset-normalizer<4,>=2 in d:\\pycharmprojects\\deepseek-excercise\\.venv\\lib\\site-packages (from requests==2.32.3) (3.4.2)\n",
      "Requirement already satisfied: idna<4,>=2.5 in d:\\pycharmprojects\\deepseek-excercise\\.venv\\lib\\site-packages (from requests==2.32.3) (3.10)\n",
      "Requirement already satisfied: urllib3<3,>=1.21.1 in d:\\pycharmprojects\\deepseek-excercise\\.venv\\lib\\site-packages (from requests==2.32.3) (2.5.0)\n",
      "Requirement already satisfied: certifi>=2017.4.17 in d:\\pycharmprojects\\deepseek-excercise\\.venv\\lib\\site-packages (from requests==2.32.3) (2025.6.15)\n",
      "Requirement already satisfied: colorama in d:\\pycharmprojects\\deepseek-excercise\\.venv\\lib\\site-packages (from tqdm==4.67.1) (0.4.6)\n",
      "Requirement already satisfied: filelock in d:\\pycharmprojects\\deepseek-excercise\\.venv\\lib\\site-packages (from torch==2.7.0) (3.18.0)\n",
      "Requirement already satisfied: sympy>=1.13.3 in d:\\pycharmprojects\\deepseek-excercise\\.venv\\lib\\site-packages (from torch==2.7.0) (1.14.0)\n",
      "Requirement already satisfied: networkx in d:\\pycharmprojects\\deepseek-excercise\\.venv\\lib\\site-packages (from torch==2.7.0) (3.5)\n",
      "Requirement already satisfied: jinja2 in d:\\pycharmprojects\\deepseek-excercise\\.venv\\lib\\site-packages (from torch==2.7.0) (3.1.6)\n",
      "Requirement already satisfied: fsspec in d:\\pycharmprojects\\deepseek-excercise\\.venv\\lib\\site-packages (from torch==2.7.0) (2025.5.1)\n",
      "Collecting pymilvus.model>=0.3.0 (from pymilvus[model]==2.5.10)\n",
      "  Downloading pymilvus_model-0.3.2-py3-none-any.whl.metadata (2.0 kB)\n",
      "Requirement already satisfied: httpcore==1.* in d:\\pycharmprojects\\deepseek-excercise\\.venv\\lib\\site-packages (from httpx<1,>=0.23.0->openai==1.82.0) (1.0.9)\n",
      "Requirement already satisfied: h11>=0.16 in d:\\pycharmprojects\\deepseek-excercise\\.venv\\lib\\site-packages (from httpcore==1.*->httpx<1,>=0.23.0->openai==1.82.0) (0.16.0)\n",
      "Requirement already satisfied: annotated-types>=0.6.0 in d:\\pycharmprojects\\deepseek-excercise\\.venv\\lib\\site-packages (from pydantic<3,>=1.9.0->openai==1.82.0) (0.7.0)\n",
      "Requirement already satisfied: pydantic-core==2.33.2 in d:\\pycharmprojects\\deepseek-excercise\\.venv\\lib\\site-packages (from pydantic<3,>=1.9.0->openai==1.82.0) (2.33.2)\n",
      "Requirement already satisfied: typing-inspection>=0.4.0 in d:\\pycharmprojects\\deepseek-excercise\\.venv\\lib\\site-packages (from pydantic<3,>=1.9.0->openai==1.82.0) (0.4.1)\n",
      "Requirement already satisfied: numpy>=1.26.0 in d:\\pycharmprojects\\deepseek-excercise\\.venv\\lib\\site-packages (from pandas>=1.2.4->pymilvus==2.5.10->pymilvus[model]==2.5.10) (2.3.1)\n",
      "Requirement already satisfied: python-dateutil>=2.8.2 in d:\\pycharmprojects\\deepseek-excercise\\.venv\\lib\\site-packages (from pandas>=1.2.4->pymilvus==2.5.10->pymilvus[model]==2.5.10) (2.9.0.post0)\n",
      "Requirement already satisfied: pytz>=2020.1 in d:\\pycharmprojects\\deepseek-excercise\\.venv\\lib\\site-packages (from pandas>=1.2.4->pymilvus==2.5.10->pymilvus[model]==2.5.10) (2025.2)\n",
      "Requirement already satisfied: tzdata>=2022.7 in d:\\pycharmprojects\\deepseek-excercise\\.venv\\lib\\site-packages (from pandas>=1.2.4->pymilvus==2.5.10->pymilvus[model]==2.5.10) (2025.2)\n",
      "Collecting transformers>=4.36.0 (from pymilvus.model>=0.3.0->pymilvus[model]==2.5.10)\n",
      "  Downloading transformers-4.53.0-py3-none-any.whl.metadata (39 kB)\n",
      "Collecting onnxruntime (from pymilvus.model>=0.3.0->pymilvus[model]==2.5.10)\n",
      "  Downloading onnxruntime-1.22.0-cp313-cp313-win_amd64.whl.metadata (5.0 kB)\n",
      "Collecting scipy>=1.10.0 (from pymilvus.model>=0.3.0->pymilvus[model]==2.5.10)\n",
      "  Downloading scipy-1.16.0-cp313-cp313-win_amd64.whl.metadata (60 kB)\n",
      "Requirement already satisfied: six>=1.5 in d:\\pycharmprojects\\deepseek-excercise\\.venv\\lib\\site-packages (from python-dateutil>=2.8.2->pandas>=1.2.4->pymilvus==2.5.10->pymilvus[model]==2.5.10) (1.17.0)\n",
      "Requirement already satisfied: mpmath<1.4,>=1.1.0 in d:\\pycharmprojects\\deepseek-excercise\\.venv\\lib\\site-packages (from sympy>=1.13.3->torch==2.7.0) (1.3.0)\n",
      "Collecting huggingface-hub<1.0,>=0.30.0 (from transformers>=4.36.0->pymilvus.model>=0.3.0->pymilvus[model]==2.5.10)\n",
      "  Downloading huggingface_hub-0.33.2-py3-none-any.whl.metadata (14 kB)\n",
      "Requirement already satisfied: packaging>=20.0 in d:\\pycharmprojects\\deepseek-excercise\\.venv\\lib\\site-packages (from transformers>=4.36.0->pymilvus.model>=0.3.0->pymilvus[model]==2.5.10) (25.0)\n",
      "Requirement already satisfied: pyyaml>=5.1 in d:\\pycharmprojects\\deepseek-excercise\\.venv\\lib\\site-packages (from transformers>=4.36.0->pymilvus.model>=0.3.0->pymilvus[model]==2.5.10) (6.0.2)\n",
      "Collecting regex!=2019.12.17 (from transformers>=4.36.0->pymilvus.model>=0.3.0->pymilvus[model]==2.5.10)\n",
      "  Downloading regex-2024.11.6-cp313-cp313-win_amd64.whl.metadata (41 kB)\n",
      "Collecting tokenizers<0.22,>=0.21 (from transformers>=4.36.0->pymilvus.model>=0.3.0->pymilvus[model]==2.5.10)\n",
      "  Downloading tokenizers-0.21.2-cp39-abi3-win_amd64.whl.metadata (6.9 kB)\n",
      "Collecting safetensors>=0.4.3 (from transformers>=4.36.0->pymilvus.model>=0.3.0->pymilvus[model]==2.5.10)\n",
      "  Downloading safetensors-0.5.3-cp38-abi3-win_amd64.whl.metadata (3.9 kB)\n",
      "Requirement already satisfied: MarkupSafe>=2.0 in d:\\pycharmprojects\\deepseek-excercise\\.venv\\lib\\site-packages (from jinja2->torch==2.7.0) (3.0.2)\n",
      "Collecting coloredlogs (from onnxruntime->pymilvus.model>=0.3.0->pymilvus[model]==2.5.10)\n",
      "  Downloading coloredlogs-15.0.1-py2.py3-none-any.whl.metadata (12 kB)\n",
      "Collecting flatbuffers (from onnxruntime->pymilvus.model>=0.3.0->pymilvus[model]==2.5.10)\n",
      "  Downloading flatbuffers-25.2.10-py2.py3-none-any.whl.metadata (875 bytes)\n",
      "Collecting humanfriendly>=9.1 (from coloredlogs->onnxruntime->pymilvus.model>=0.3.0->pymilvus[model]==2.5.10)\n",
      "  Downloading humanfriendly-10.0-py2.py3-none-any.whl.metadata (9.2 kB)\n",
      "Collecting pyreadline3 (from humanfriendly>=9.1->coloredlogs->onnxruntime->pymilvus.model>=0.3.0->pymilvus[model]==2.5.10)\n",
      "  Downloading pyreadline3-3.5.4-py3-none-any.whl.metadata (4.7 kB)\n",
      "Downloading pymilvus_model-0.3.2-py3-none-any.whl (47 kB)\n",
      "Downloading scipy-1.16.0-cp313-cp313-win_amd64.whl (38.4 MB)\n",
      "   ---------------------------------------- 0.0/38.4 MB ? eta -:--:--\n",
      "   ---------------------------------------- 0.0/38.4 MB ? eta -:--:--\n",
      "   ---------------------------------------- 0.0/38.4 MB ? eta -:--:--\n",
      "   ---------------------------------------- 0.3/38.4 MB ? eta -:--:--\n",
      "   ---------------------------------------- 0.3/38.4 MB ? eta -:--:--\n",
      "    --------------------------------------- 0.5/38.4 MB 624.1 kB/s eta 0:01:01\n",
      "    --------------------------------------- 0.5/38.4 MB 624.1 kB/s eta 0:01:01\n",
      "    --------------------------------------- 0.8/38.4 MB 638.1 kB/s eta 0:00:59\n",
      "    --------------------------------------- 0.8/38.4 MB 638.1 kB/s eta 0:00:59\n",
      "   - -------------------------------------- 1.0/38.4 MB 663.6 kB/s eta 0:00:57\n",
      "   - -------------------------------------- 1.3/38.4 MB 710.9 kB/s eta 0:00:53\n",
      "   - -------------------------------------- 1.3/38.4 MB 710.9 kB/s eta 0:00:53\n",
      "   - -------------------------------------- 1.6/38.4 MB 722.0 kB/s eta 0:00:52\n",
      "   - -------------------------------------- 1.8/38.4 MB 729.7 kB/s eta 0:00:51\n",
      "   -- ------------------------------------- 2.1/38.4 MB 762.1 kB/s eta 0:00:48\n",
      "   -- ------------------------------------- 2.4/38.4 MB 808.1 kB/s eta 0:00:45\n",
      "   -- ------------------------------------- 2.6/38.4 MB 841.4 kB/s eta 0:00:43\n",
      "   -- ------------------------------------- 2.6/38.4 MB 841.4 kB/s eta 0:00:43\n",
      "   --- ------------------------------------ 2.9/38.4 MB 845.8 kB/s eta 0:00:42\n",
      "   --- ------------------------------------ 3.1/38.4 MB 866.1 kB/s eta 0:00:41\n",
      "   --- ------------------------------------ 3.4/38.4 MB 887.2 kB/s eta 0:00:40\n",
      "   --- ------------------------------------ 3.7/38.4 MB 903.3 kB/s eta 0:00:39\n",
      "   ---- ----------------------------------- 3.9/38.4 MB 926.8 kB/s eta 0:00:38\n",
      "   ---- ----------------------------------- 4.2/38.4 MB 946.8 kB/s eta 0:00:37\n",
      "   ---- ----------------------------------- 4.5/38.4 MB 959.8 kB/s eta 0:00:36\n",
      "   ----- ---------------------------------- 5.0/38.4 MB 1.0 MB/s eta 0:00:33\n",
      "   ----- ---------------------------------- 5.2/38.4 MB 1.0 MB/s eta 0:00:33\n",
      "   ----- ---------------------------------- 5.5/38.4 MB 1.1 MB/s eta 0:00:32\n",
      "   ------ --------------------------------- 6.0/38.4 MB 1.1 MB/s eta 0:00:30\n",
      "   ------ --------------------------------- 6.3/38.4 MB 1.1 MB/s eta 0:00:29\n",
      "   ------- -------------------------------- 6.8/38.4 MB 1.2 MB/s eta 0:00:28\n",
      "   ------- -------------------------------- 7.3/38.4 MB 1.2 MB/s eta 0:00:26\n",
      "   -------- ------------------------------- 7.9/38.4 MB 1.3 MB/s eta 0:00:25\n",
      "   -------- ------------------------------- 8.4/38.4 MB 1.3 MB/s eta 0:00:24\n",
      "   --------- ------------------------------ 8.9/38.4 MB 1.3 MB/s eta 0:00:23\n",
      "   --------- ------------------------------ 9.4/38.4 MB 1.4 MB/s eta 0:00:22\n",
      "   ---------- ----------------------------- 10.2/38.4 MB 1.4 MB/s eta 0:00:20\n",
      "   ----------- ---------------------------- 10.7/38.4 MB 1.5 MB/s eta 0:00:19\n",
      "   ------------ --------------------------- 11.5/38.4 MB 1.5 MB/s eta 0:00:18\n",
      "   ------------ --------------------------- 12.1/38.4 MB 1.6 MB/s eta 0:00:17\n",
      "   ------------- -------------------------- 12.8/38.4 MB 1.6 MB/s eta 0:00:16\n",
      "   -------------- ------------------------- 13.6/38.4 MB 1.7 MB/s eta 0:00:15\n",
      "   --------------- ------------------------ 14.4/38.4 MB 1.7 MB/s eta 0:00:14\n",
      "   --------------- ------------------------ 15.2/38.4 MB 1.8 MB/s eta 0:00:14\n",
      "   ---------------- ----------------------- 16.0/38.4 MB 1.8 MB/s eta 0:00:13\n",
      "   ----------------- ---------------------- 17.0/38.4 MB 1.9 MB/s eta 0:00:12\n",
      "   ------------------ --------------------- 17.8/38.4 MB 1.9 MB/s eta 0:00:11\n",
      "   ------------------- -------------------- 18.9/38.4 MB 2.0 MB/s eta 0:00:10\n",
      "   -------------------- ------------------- 19.7/38.4 MB 2.1 MB/s eta 0:00:10\n",
      "   --------------------- ------------------ 20.4/38.4 MB 2.1 MB/s eta 0:00:09\n",
      "   ---------------------- ----------------- 22.0/38.4 MB 2.2 MB/s eta 0:00:08\n",
      "   ----------------------- ---------------- 22.8/38.4 MB 2.2 MB/s eta 0:00:07\n",
      "   ------------------------ --------------- 23.9/38.4 MB 2.3 MB/s eta 0:00:07\n",
      "   -------------------------- ------------- 25.4/38.4 MB 2.4 MB/s eta 0:00:06\n",
      "   --------------------------- ------------ 26.2/38.4 MB 2.4 MB/s eta 0:00:05\n",
      "   ---------------------------- ----------- 27.5/38.4 MB 2.5 MB/s eta 0:00:05\n",
      "   ------------------------------ --------- 28.8/38.4 MB 2.6 MB/s eta 0:00:04\n",
      "   ------------------------------- -------- 30.1/38.4 MB 2.7 MB/s eta 0:00:04\n",
      "   --------------------------------- ------ 32.0/38.4 MB 2.8 MB/s eta 0:00:03\n",
      "   ---------------------------------- ----- 33.3/38.4 MB 2.8 MB/s eta 0:00:02\n",
      "   ----------------------------------- ---- 34.3/38.4 MB 2.9 MB/s eta 0:00:02\n",
      "   ------------------------------------- -- 36.2/38.4 MB 3.0 MB/s eta 0:00:01\n",
      "   ---------------------------------------  38.3/38.4 MB 3.1 MB/s eta 0:00:01\n",
      "   ---------------------------------------- 38.4/38.4 MB 3.1 MB/s eta 0:00:00\n",
      "Downloading transformers-4.53.0-py3-none-any.whl (10.8 MB)\n",
      "   ---------------------------------------- 0.0/10.8 MB ? eta -:--:--\n",
      "   ----- ---------------------------------- 1.6/10.8 MB 74.1 MB/s eta 0:00:01\n",
      "   ----------- ---------------------------- 3.1/10.8 MB 12.4 MB/s eta 0:00:01\n",
      "   ------------------- -------------------- 5.2/10.8 MB 11.5 MB/s eta 0:00:01\n",
      "   ------------------------ --------------- 6.6/10.8 MB 10.7 MB/s eta 0:00:01\n",
      "   ------------------------------- -------- 8.7/10.8 MB 9.9 MB/s eta 0:00:01\n",
      "   -------------------------------------- - 10.5/10.8 MB 10.3 MB/s eta 0:00:01\n",
      "   ---------------------------------------- 10.8/10.8 MB 9.7 MB/s eta 0:00:00\n",
      "Downloading huggingface_hub-0.33.2-py3-none-any.whl (515 kB)\n",
      "Downloading tokenizers-0.21.2-cp39-abi3-win_amd64.whl (2.5 MB)\n",
      "   ---------------------------------------- 0.0/2.5 MB ? eta -:--:--\n",
      "   -------- ------------------------------- 0.5/2.5 MB 6.8 MB/s eta 0:00:01\n",
      "   ------------------------- -------------- 1.6/2.5 MB 5.8 MB/s eta 0:00:01\n",
      "   ----------------------------- ---------- 1.8/2.5 MB 3.4 MB/s eta 0:00:01\n",
      "   ---------------------------------------- 2.5/2.5 MB 4.6 MB/s eta 0:00:00\n",
      "Downloading regex-2024.11.6-cp313-cp313-win_amd64.whl (273 kB)\n",
      "Downloading safetensors-0.5.3-cp38-abi3-win_amd64.whl (308 kB)\n",
      "Downloading onnxruntime-1.22.0-cp313-cp313-win_amd64.whl (12.7 MB)\n",
      "   ---------------------------------------- 0.0/12.7 MB ? eta -:--:--\n",
      "   --- ------------------------------------ 1.0/12.7 MB 116.0 MB/s eta 0:00:01\n",
      "   ----- ---------------------------------- 1.8/12.7 MB 8.5 MB/s eta 0:00:02\n",
      "   --------- ------------------------------ 3.1/12.7 MB 7.1 MB/s eta 0:00:02\n",
      "   ---------- ----------------------------- 3.4/12.7 MB 6.2 MB/s eta 0:00:02\n",
      "   ---------------- ----------------------- 5.2/12.7 MB 5.9 MB/s eta 0:00:02\n",
      "   ----------------------- ---------------- 7.6/12.7 MB 6.9 MB/s eta 0:00:01\n",
      "   ----------------------------- ---------- 9.4/12.7 MB 7.4 MB/s eta 0:00:01\n",
      "   ---------------------------------- ----- 11.0/12.7 MB 7.5 MB/s eta 0:00:01\n",
      "   -------------------------------------- - 12.3/12.7 MB 7.6 MB/s eta 0:00:01\n",
      "   ---------------------------------------- 12.7/12.7 MB 7.1 MB/s eta 0:00:00\n",
      "Downloading coloredlogs-15.0.1-py2.py3-none-any.whl (46 kB)\n",
      "Downloading humanfriendly-10.0-py2.py3-none-any.whl (86 kB)\n",
      "Downloading flatbuffers-25.2.10-py2.py3-none-any.whl (30 kB)\n",
      "Downloading pyreadline3-3.5.4-py3-none-any.whl (83 kB)\n",
      "Installing collected packages: flatbuffers, scipy, safetensors, regex, pyreadline3, humanfriendly, huggingface-hub, tokenizers, coloredlogs, transformers, onnxruntime, pymilvus.model\n",
      "\n",
      "   --- ------------------------------------  1/12 [scipy]\n",
      "   --- ------------------------------------  1/12 [scipy]\n",
      "   --- ------------------------------------  1/12 [scipy]\n",
      "   --- ------------------------------------  1/12 [scipy]\n",
      "   --- ------------------------------------  1/12 [scipy]\n",
      "   --- ------------------------------------  1/12 [scipy]\n",
      "   --- ------------------------------------  1/12 [scipy]\n",
      "   --- ------------------------------------  1/12 [scipy]\n",
      "   --- ------------------------------------  1/12 [scipy]\n",
      "   --- ------------------------------------  1/12 [scipy]\n",
      "   --- ------------------------------------  1/12 [scipy]\n",
      "   --- ------------------------------------  1/12 [scipy]\n",
      "   --- ------------------------------------  1/12 [scipy]\n",
      "   --- ------------------------------------  1/12 [scipy]\n",
      "   --- ------------------------------------  1/12 [scipy]\n",
      "   --- ------------------------------------  1/12 [scipy]\n",
      "   --- ------------------------------------  1/12 [scipy]\n",
      "   --- ------------------------------------  1/12 [scipy]\n",
      "   --- ------------------------------------  1/12 [scipy]\n",
      "   --- ------------------------------------  1/12 [scipy]\n",
      "   --- ------------------------------------  1/12 [scipy]\n",
      "   ------------- --------------------------  4/12 [pyreadline3]\n",
      "   -------------------- -------------------  6/12 [huggingface-hub]\n",
      "   -------------------- -------------------  6/12 [huggingface-hub]\n",
      "   ------------------------------ ---------  9/12 [transformers]\n",
      "   ------------------------------ ---------  9/12 [transformers]\n",
      "   ------------------------------ ---------  9/12 [transformers]\n",
      "   ------------------------------ ---------  9/12 [transformers]\n",
      "   ------------------------------ ---------  9/12 [transformers]\n",
      "   ------------------------------ ---------  9/12 [transformers]\n",
      "   ------------------------------ ---------  9/12 [transformers]\n",
      "   ------------------------------ ---------  9/12 [transformers]\n",
      "   ------------------------------ ---------  9/12 [transformers]\n",
      "   ------------------------------ ---------  9/12 [transformers]\n",
      "   ------------------------------ ---------  9/12 [transformers]\n",
      "   ------------------------------ ---------  9/12 [transformers]\n",
      "   ------------------------------ ---------  9/12 [transformers]\n",
      "   ------------------------------ ---------  9/12 [transformers]\n",
      "   ------------------------------ ---------  9/12 [transformers]\n",
      "   ------------------------------ ---------  9/12 [transformers]\n",
      "   ------------------------------ ---------  9/12 [transformers]\n",
      "   ------------------------------ ---------  9/12 [transformers]\n",
      "   ------------------------------ ---------  9/12 [transformers]\n",
      "   ------------------------------ ---------  9/12 [transformers]\n",
      "   ------------------------------ ---------  9/12 [transformers]\n",
      "   ------------------------------ ---------  9/12 [transformers]\n",
      "   ------------------------------ ---------  9/12 [transformers]\n",
      "   ------------------------------ ---------  9/12 [transformers]\n",
      "   ------------------------------ ---------  9/12 [transformers]\n",
      "   ------------------------------ ---------  9/12 [transformers]\n",
      "   ------------------------------ ---------  9/12 [transformers]\n",
      "   ------------------------------ ---------  9/12 [transformers]\n",
      "   ------------------------------ ---------  9/12 [transformers]\n",
      "   ------------------------------ ---------  9/12 [transformers]\n",
      "   ------------------------------ ---------  9/12 [transformers]\n",
      "   ------------------------------ ---------  9/12 [transformers]\n",
      "   --------------------------------- ------ 10/12 [onnxruntime]\n",
      "   --------------------------------- ------ 10/12 [onnxruntime]\n",
      "   --------------------------------- ------ 10/12 [onnxruntime]\n",
      "   --------------------------------- ------ 10/12 [onnxruntime]\n",
      "   --------------------------------- ------ 10/12 [onnxruntime]\n",
      "   ---------------------------------------- 12/12 [pymilvus.model]\n",
      "\n",
      "Successfully installed coloredlogs-15.0.1 flatbuffers-25.2.10 huggingface-hub-0.33.2 humanfriendly-10.0 onnxruntime-1.22.0 pymilvus.model-0.3.2 pyreadline3-3.5.4 regex-2024.11.6 safetensors-0.5.3 scipy-1.16.0 tokenizers-0.21.2 transformers-4.53.0\n"
     ]
    }
   ],
   "execution_count": 2
  },
  {
   "metadata": {
    "ExecuteTime": {
     "end_time": "2025-07-02T14:09:28.868220Z",
     "start_time": "2025-07-02T14:09:28.864670Z"
    }
   },
   "cell_type": "code",
   "source": [
    "import os\n",
    "\n",
    "#从环境变量中获取DeepSeek API Key\n",
    "api_key = os.getenv(\"DEEPSEEK_API_KEY\")"
   ],
   "id": "fdf312ee55e5b878",
   "outputs": [],
   "execution_count": 3
  },
  {
   "metadata": {
    "ExecuteTime": {
     "end_time": "2025-07-02T15:37:53.924163Z",
     "start_time": "2025-07-02T15:37:53.914906Z"
    }
   },
   "cell_type": "code",
   "source": [
    "from glob import glob\n",
    "text_lines = []\n",
    "for file in glob(\"D:/PycharmProjects/deepseek-excercise/milvus_docs/en/faq/*.md\", recursive=True):\n",
    "    with open(file, \"r\", encoding=\"utf-8\") as f:\n",
    "        file_text = f.read()\n",
    "\n",
    "    text_lines += file_text.split(\"# \")"
   ],
   "id": "14b42a74b271a177",
   "outputs": [],
   "execution_count": 7
  },
  {
   "metadata": {
    "ExecuteTime": {
     "end_time": "2025-07-02T15:37:57.264583Z",
     "start_time": "2025-07-02T15:37:57.261570Z"
    }
   },
   "cell_type": "code",
   "source": "len(text_lines)",
   "id": "9ebd730a9a28299e",
   "outputs": [
    {
     "data": {
      "text/plain": [
       "72"
      ]
     },
     "execution_count": 8,
     "metadata": {},
     "output_type": "execute_result"
    }
   ],
   "execution_count": 8
  },
  {
   "metadata": {
    "ExecuteTime": {
     "end_time": "2025-07-02T15:42:33.688299Z",
     "start_time": "2025-07-02T15:42:32.665647Z"
    }
   },
   "cell_type": "code",
   "source": [
    "from openai import OpenAI\n",
    "\n",
    "deepseek_client = OpenAI(\n",
    "    api_key=api_key,\n",
    "    base_url=\"https://api.deepseek.ai/\", # Deepseek API的基地址\n",
    ")"
   ],
   "id": "2d2ef8fc0af8b478",
   "outputs": [],
   "execution_count": 9
  },
  {
   "metadata": {
    "ExecuteTime": {
     "end_time": "2025-07-02T15:42:57.281111Z",
     "start_time": "2025-07-02T15:42:42.677739Z"
    }
   },
   "cell_type": "code",
   "source": [
    "from pymilvus import model as milvus_model\n",
    "\n",
    "embedding_model = milvus_model.DefaultEmbeddingFunction()"
   ],
   "id": "8167396916c33508",
   "outputs": [
    {
     "data": {
      "text/plain": [
       "tokenizer_config.json:   0%|          | 0.00/465 [00:00<?, ?B/s]"
      ],
      "application/vnd.jupyter.widget-view+json": {
       "version_major": 2,
       "version_minor": 0,
       "model_id": "bc496926af5c4d7989d2a62103292516"
      }
     },
     "metadata": {},
     "output_type": "display_data"
    },
    {
     "name": "stderr",
     "output_type": "stream",
     "text": [
      "D:\\PycharmProjects\\deepseek-excercise\\.venv\\Lib\\site-packages\\huggingface_hub\\file_download.py:143: UserWarning: `huggingface_hub` cache-system uses symlinks by default to efficiently store duplicated files but your machine does not support them in C:\\Users\\JIANG\\.cache\\huggingface\\hub\\models--GPTCache--paraphrase-albert-small-v2. Caching files will still work but in a degraded version that might require more space on your disk. This warning can be disabled by setting the `HF_HUB_DISABLE_SYMLINKS_WARNING` environment variable. For more details, see https://huggingface.co/docs/huggingface_hub/how-to-cache#limitations.\n",
      "To support symlinks on Windows, you either need to activate Developer Mode or to run Python as an administrator. In order to activate developer mode, see this article: https://docs.microsoft.com/en-us/windows/apps/get-started/enable-your-device-for-development\n",
      "  warnings.warn(message)\n"
     ]
    },
    {
     "data": {
      "text/plain": [
       "config.json:   0%|          | 0.00/827 [00:00<?, ?B/s]"
      ],
      "application/vnd.jupyter.widget-view+json": {
       "version_major": 2,
       "version_minor": 0,
       "model_id": "a9e2be6fa0374ddcac05ab2ebd4dba97"
      }
     },
     "metadata": {},
     "output_type": "display_data"
    },
    {
     "data": {
      "text/plain": [
       "spiece.model:   0%|          | 0.00/760k [00:00<?, ?B/s]"
      ],
      "application/vnd.jupyter.widget-view+json": {
       "version_major": 2,
       "version_minor": 0,
       "model_id": "41808d64823549af843d6a2a62e0feb6"
      }
     },
     "metadata": {},
     "output_type": "display_data"
    },
    {
     "data": {
      "text/plain": [
       "tokenizer.json: 0.00B [00:00, ?B/s]"
      ],
      "application/vnd.jupyter.widget-view+json": {
       "version_major": 2,
       "version_minor": 0,
       "model_id": "51050bf098ce48feb608ee84fbb1dd98"
      }
     },
     "metadata": {},
     "output_type": "display_data"
    },
    {
     "data": {
      "text/plain": [
       "special_tokens_map.json:   0%|          | 0.00/245 [00:00<?, ?B/s]"
      ],
      "application/vnd.jupyter.widget-view+json": {
       "version_major": 2,
       "version_minor": 0,
       "model_id": "f7adab8d75b14ceeb97b99e56f964fd0"
      }
     },
     "metadata": {},
     "output_type": "display_data"
    },
    {
     "data": {
      "text/plain": [
       "model.onnx:   0%|          | 0.00/46.9M [00:00<?, ?B/s]"
      ],
      "application/vnd.jupyter.widget-view+json": {
       "version_major": 2,
       "version_minor": 0,
       "model_id": "9aa539ac89e34ddea0465a7edd3f4678"
      }
     },
     "metadata": {},
     "output_type": "display_data"
    },
    {
     "name": "stderr",
     "output_type": "stream",
     "text": [
      "D:\\PycharmProjects\\deepseek-excercise\\.venv\\Lib\\site-packages\\huggingface_hub\\file_download.py:143: UserWarning: `huggingface_hub` cache-system uses symlinks by default to efficiently store duplicated files but your machine does not support them in C:\\Users\\JIANG\\.cache\\huggingface\\hub\\models--GPTCache--paraphrase-albert-onnx. Caching files will still work but in a degraded version that might require more space on your disk. This warning can be disabled by setting the `HF_HUB_DISABLE_SYMLINKS_WARNING` environment variable. For more details, see https://huggingface.co/docs/huggingface_hub/how-to-cache#limitations.\n",
      "To support symlinks on Windows, you either need to activate Developer Mode or to run Python as an administrator. In order to activate developer mode, see this article: https://docs.microsoft.com/en-us/windows/apps/get-started/enable-your-device-for-development\n",
      "  warnings.warn(message)\n"
     ]
    }
   ],
   "execution_count": 10
  },
  {
   "metadata": {
    "ExecuteTime": {
     "end_time": "2025-07-02T15:45:22.356097Z",
     "start_time": "2025-07-02T15:45:22.282108Z"
    }
   },
   "cell_type": "code",
   "source": [
    "test_embedding = embedding_model.encode_queries([\"This is a test\"])[0]\n",
    "embedding_dim = len(test_embedding)\n",
    "print(embedding_dim)\n",
    "print(test_embedding[:10])"
   ],
   "id": "409a4afc15f3e1e8",
   "outputs": [
    {
     "name": "stdout",
     "output_type": "stream",
     "text": [
      "768\n",
      "[-0.04836059  0.07163021 -0.01130063 -0.03789341 -0.03320651 -0.01318453\n",
      " -0.03041721 -0.02269495 -0.02317858 -0.00426026]\n"
     ]
    }
   ],
   "execution_count": 13
  },
  {
   "metadata": {
    "ExecuteTime": {
     "end_time": "2025-07-02T15:46:47.726607Z",
     "start_time": "2025-07-02T15:46:47.666060Z"
    }
   },
   "cell_type": "code",
   "source": [
    "test_embedding_0 = embedding_model.encode_queries([\"That is a test\"])[0]\n",
    "print(test_embedding_0[:10])"
   ],
   "id": "97744ff10c0c1ad3",
   "outputs": [
    {
     "name": "stdout",
     "output_type": "stream",
     "text": [
      "[-0.02752976  0.0608853   0.00388525 -0.00215193 -0.02774976 -0.0118618\n",
      " -0.04020916 -0.06023417 -0.03813156  0.0100272 ]\n"
     ]
    }
   ],
   "execution_count": 15
  },
  {
   "metadata": {
    "ExecuteTime": {
     "end_time": "2025-07-02T15:48:48.356990Z",
     "start_time": "2025-07-02T15:48:48.198729Z"
    }
   },
   "cell_type": "code",
   "source": [
    "from pymilvus import MilvusClient\n",
    "milvus_client = MilvusClient(uri=\"./milvus_demo.db\")\n",
    "collection_name=(\"my_rag_collection\")"
   ],
   "id": "b8f3417543b707f3",
   "outputs": [
    {
     "name": "stderr",
     "output_type": "stream",
     "text": [
      "2025-07-02 23:48:48,200 [ERROR][_create_connection]: Failed to create new connection using: 0f2f18e2607f437680a9c006fcf001cb (milvus_client.py:916)\n"
     ]
    },
    {
     "ename": "ModuleNotFoundError",
     "evalue": "No module named 'milvus_lite'",
     "output_type": "error",
     "traceback": [
      "\u001B[31m---------------------------------------------------------------------------\u001B[39m",
      "\u001B[31mModuleNotFoundError\u001B[39m                       Traceback (most recent call last)",
      "    \u001B[31m[... skipping hidden 1 frame]\u001B[39m\n",
      "\u001B[36mCell\u001B[39m\u001B[36m \u001B[39m\u001B[32mIn[16]\u001B[39m\u001B[32m, line 2\u001B[39m\n\u001B[32m      1\u001B[39m \u001B[38;5;28;01mfrom\u001B[39;00m\u001B[38;5;250m \u001B[39m\u001B[34;01mpymilvus\u001B[39;00m\u001B[38;5;250m \u001B[39m\u001B[38;5;28;01mimport\u001B[39;00m MilvusClient\n\u001B[32m----> \u001B[39m\u001B[32m2\u001B[39m milvus_client = \u001B[43mMilvusClient\u001B[49m\u001B[43m(\u001B[49m\u001B[43muri\u001B[49m\u001B[43m=\u001B[49m\u001B[33;43m\"\u001B[39;49m\u001B[33;43m./milvus_demo.db\u001B[39;49m\u001B[33;43m\"\u001B[39;49m\u001B[43m)\u001B[49m\n\u001B[32m      3\u001B[39m collection_name=(\u001B[33m\"\u001B[39m\u001B[33mmy_rag_collection\u001B[39m\u001B[33m\"\u001B[39m)\n",
      "\u001B[36mFile \u001B[39m\u001B[32mD:\\PycharmProjects\\deepseek-excercise\\.venv\\Lib\\site-packages\\pymilvus\\milvus_client\\milvus_client.py:64\u001B[39m, in \u001B[36mMilvusClient.__init__\u001B[39m\u001B[34m(self, uri, user, password, db_name, token, timeout, **kwargs)\u001B[39m\n\u001B[32m     52\u001B[39m \u001B[38;5;250m\u001B[39m\u001B[33;03m\"\"\"A client for the common Milvus use case.\u001B[39;00m\n\u001B[32m     53\u001B[39m \n\u001B[32m     54\u001B[39m \u001B[33;03mThis client attempts to hide away the complexity of using Pymilvus. In a lot ofcases what\u001B[39;00m\n\u001B[32m   (...)\u001B[39m\u001B[32m     62\u001B[39m \u001B[33;03m        to None.\u001B[39;00m\n\u001B[32m     63\u001B[39m \u001B[33;03m\"\"\"\u001B[39;00m\n\u001B[32m---> \u001B[39m\u001B[32m64\u001B[39m \u001B[38;5;28mself\u001B[39m._using = \u001B[38;5;28;43mself\u001B[39;49m\u001B[43m.\u001B[49m\u001B[43m_create_connection\u001B[49m\u001B[43m(\u001B[49m\n\u001B[32m     65\u001B[39m \u001B[43m    \u001B[49m\u001B[43muri\u001B[49m\u001B[43m,\u001B[49m\u001B[43m \u001B[49m\u001B[43muser\u001B[49m\u001B[43m,\u001B[49m\u001B[43m \u001B[49m\u001B[43mpassword\u001B[49m\u001B[43m,\u001B[49m\u001B[43m \u001B[49m\u001B[43mdb_name\u001B[49m\u001B[43m,\u001B[49m\u001B[43m \u001B[49m\u001B[43mtoken\u001B[49m\u001B[43m,\u001B[49m\u001B[43m \u001B[49m\u001B[43mtimeout\u001B[49m\u001B[43m=\u001B[49m\u001B[43mtimeout\u001B[49m\u001B[43m,\u001B[49m\u001B[43m \u001B[49m\u001B[43m*\u001B[49m\u001B[43m*\u001B[49m\u001B[43mkwargs\u001B[49m\n\u001B[32m     66\u001B[39m \u001B[43m\u001B[49m\u001B[43m)\u001B[49m\n\u001B[32m     67\u001B[39m \u001B[38;5;28mself\u001B[39m.is_self_hosted = \u001B[38;5;28mbool\u001B[39m(utility.get_server_type(using=\u001B[38;5;28mself\u001B[39m._using) == \u001B[33m\"\u001B[39m\u001B[33mmilvus\u001B[39m\u001B[33m\"\u001B[39m)\n",
      "\u001B[36mFile \u001B[39m\u001B[32mD:\\PycharmProjects\\deepseek-excercise\\.venv\\Lib\\site-packages\\pymilvus\\milvus_client\\milvus_client.py:917\u001B[39m, in \u001B[36mMilvusClient._create_connection\u001B[39m\u001B[34m(self, uri, user, password, db_name, token, **kwargs)\u001B[39m\n\u001B[32m    916\u001B[39m     logger.error(\u001B[33m\"\u001B[39m\u001B[33mFailed to create new connection using: \u001B[39m\u001B[38;5;132;01m%s\u001B[39;00m\u001B[33m\"\u001B[39m, using)\n\u001B[32m--> \u001B[39m\u001B[32m917\u001B[39m     \u001B[38;5;28;01mraise\u001B[39;00m ex \u001B[38;5;28;01mfrom\u001B[39;00m\u001B[38;5;250m \u001B[39m\u001B[34;01mex\u001B[39;00m\n\u001B[32m    918\u001B[39m \u001B[38;5;28;01melse\u001B[39;00m:\n",
      "\u001B[36mFile \u001B[39m\u001B[32mD:\\PycharmProjects\\deepseek-excercise\\.venv\\Lib\\site-packages\\pymilvus\\milvus_client\\milvus_client.py:914\u001B[39m, in \u001B[36mMilvusClient._create_connection\u001B[39m\u001B[34m(self, uri, user, password, db_name, token, **kwargs)\u001B[39m\n\u001B[32m    913\u001B[39m \u001B[38;5;28;01mtry\u001B[39;00m:\n\u001B[32m--> \u001B[39m\u001B[32m914\u001B[39m     \u001B[43mconnections\u001B[49m\u001B[43m.\u001B[49m\u001B[43mconnect\u001B[49m\u001B[43m(\u001B[49m\u001B[43musing\u001B[49m\u001B[43m,\u001B[49m\u001B[43m \u001B[49m\u001B[43muser\u001B[49m\u001B[43m,\u001B[49m\u001B[43m \u001B[49m\u001B[43mpassword\u001B[49m\u001B[43m,\u001B[49m\u001B[43m \u001B[49m\u001B[43mdb_name\u001B[49m\u001B[43m,\u001B[49m\u001B[43m \u001B[49m\u001B[43mtoken\u001B[49m\u001B[43m,\u001B[49m\u001B[43m \u001B[49m\u001B[43muri\u001B[49m\u001B[43m=\u001B[49m\u001B[43muri\u001B[49m\u001B[43m,\u001B[49m\u001B[43m \u001B[49m\u001B[43m*\u001B[49m\u001B[43m*\u001B[49m\u001B[43mkwargs\u001B[49m\u001B[43m)\u001B[49m\n\u001B[32m    915\u001B[39m \u001B[38;5;28;01mexcept\u001B[39;00m \u001B[38;5;167;01mException\u001B[39;00m \u001B[38;5;28;01mas\u001B[39;00m ex:\n",
      "\u001B[36mFile \u001B[39m\u001B[32mD:\\PycharmProjects\\deepseek-excercise\\.venv\\Lib\\site-packages\\pymilvus\\orm\\connections.py:388\u001B[39m, in \u001B[36mConnections.connect\u001B[39m\u001B[34m(self, alias, user, password, db_name, token, _async, **kwargs)\u001B[39m\n\u001B[32m    384\u001B[39m     \u001B[38;5;28;01mraise\u001B[39;00m ConnectionConfigException(\n\u001B[32m    385\u001B[39m         message=\u001B[33mf\u001B[39m\u001B[33m\"\u001B[39m\u001B[33mOpen local milvus failed, dir: \u001B[39m\u001B[38;5;132;01m{\u001B[39;00mparent_path\u001B[38;5;132;01m}\u001B[39;00m\u001B[33m not exists\u001B[39m\u001B[33m\"\u001B[39m\n\u001B[32m    386\u001B[39m     )\n\u001B[32m--> \u001B[39m\u001B[32m388\u001B[39m \u001B[38;5;28;01mfrom\u001B[39;00m\u001B[38;5;250m \u001B[39m\u001B[34;01mmilvus_lite\u001B[39;00m\u001B[34;01m.\u001B[39;00m\u001B[34;01mserver_manager\u001B[39;00m\u001B[38;5;250m \u001B[39m\u001B[38;5;28;01mimport\u001B[39;00m (\n\u001B[32m    389\u001B[39m     server_manager_instance,\n\u001B[32m    390\u001B[39m )\n\u001B[32m    392\u001B[39m local_uri = server_manager_instance.start_and_get_uri(kwargs[\u001B[33m\"\u001B[39m\u001B[33muri\u001B[39m\u001B[33m\"\u001B[39m])\n",
      "\u001B[31mModuleNotFoundError\u001B[39m: No module named 'milvus_lite'",
      "\nThe above exception was the direct cause of the following exception:\n",
      "\u001B[31mModuleNotFoundError\u001B[39m                       Traceback (most recent call last)",
      "    \u001B[31m[... skipping hidden 1 frame]\u001B[39m\n",
      "\u001B[36mCell\u001B[39m\u001B[36m \u001B[39m\u001B[32mIn[16]\u001B[39m\u001B[32m, line 2\u001B[39m\n\u001B[32m      1\u001B[39m \u001B[38;5;28;01mfrom\u001B[39;00m\u001B[38;5;250m \u001B[39m\u001B[34;01mpymilvus\u001B[39;00m\u001B[38;5;250m \u001B[39m\u001B[38;5;28;01mimport\u001B[39;00m MilvusClient\n\u001B[32m----> \u001B[39m\u001B[32m2\u001B[39m milvus_client = \u001B[43mMilvusClient\u001B[49m\u001B[43m(\u001B[49m\u001B[43muri\u001B[49m\u001B[43m=\u001B[49m\u001B[33;43m\"\u001B[39;49m\u001B[33;43m./milvus_demo.db\u001B[39;49m\u001B[33;43m\"\u001B[39;49m\u001B[43m)\u001B[49m\n\u001B[32m      3\u001B[39m collection_name=(\u001B[33m\"\u001B[39m\u001B[33mmy_rag_collection\u001B[39m\u001B[33m\"\u001B[39m)\n",
      "\u001B[36mFile \u001B[39m\u001B[32mD:\\PycharmProjects\\deepseek-excercise\\.venv\\Lib\\site-packages\\pymilvus\\milvus_client\\milvus_client.py:64\u001B[39m, in \u001B[36mMilvusClient.__init__\u001B[39m\u001B[34m(self, uri, user, password, db_name, token, timeout, **kwargs)\u001B[39m\n\u001B[32m     52\u001B[39m \u001B[38;5;250m\u001B[39m\u001B[33;03m\"\"\"A client for the common Milvus use case.\u001B[39;00m\n\u001B[32m     53\u001B[39m \n\u001B[32m     54\u001B[39m \u001B[33;03mThis client attempts to hide away the complexity of using Pymilvus. In a lot ofcases what\u001B[39;00m\n\u001B[32m   (...)\u001B[39m\u001B[32m     62\u001B[39m \u001B[33;03m        to None.\u001B[39;00m\n\u001B[32m     63\u001B[39m \u001B[33;03m\"\"\"\u001B[39;00m\n\u001B[32m---> \u001B[39m\u001B[32m64\u001B[39m \u001B[38;5;28mself\u001B[39m._using = \u001B[38;5;28;43mself\u001B[39;49m\u001B[43m.\u001B[49m\u001B[43m_create_connection\u001B[49m\u001B[43m(\u001B[49m\n\u001B[32m     65\u001B[39m \u001B[43m    \u001B[49m\u001B[43muri\u001B[49m\u001B[43m,\u001B[49m\u001B[43m \u001B[49m\u001B[43muser\u001B[49m\u001B[43m,\u001B[49m\u001B[43m \u001B[49m\u001B[43mpassword\u001B[49m\u001B[43m,\u001B[49m\u001B[43m \u001B[49m\u001B[43mdb_name\u001B[49m\u001B[43m,\u001B[49m\u001B[43m \u001B[49m\u001B[43mtoken\u001B[49m\u001B[43m,\u001B[49m\u001B[43m \u001B[49m\u001B[43mtimeout\u001B[49m\u001B[43m=\u001B[49m\u001B[43mtimeout\u001B[49m\u001B[43m,\u001B[49m\u001B[43m \u001B[49m\u001B[43m*\u001B[49m\u001B[43m*\u001B[49m\u001B[43mkwargs\u001B[49m\n\u001B[32m     66\u001B[39m \u001B[43m\u001B[49m\u001B[43m)\u001B[49m\n\u001B[32m     67\u001B[39m \u001B[38;5;28mself\u001B[39m.is_self_hosted = \u001B[38;5;28mbool\u001B[39m(utility.get_server_type(using=\u001B[38;5;28mself\u001B[39m._using) == \u001B[33m\"\u001B[39m\u001B[33mmilvus\u001B[39m\u001B[33m\"\u001B[39m)\n",
      "\u001B[36mFile \u001B[39m\u001B[32mD:\\PycharmProjects\\deepseek-excercise\\.venv\\Lib\\site-packages\\pymilvus\\milvus_client\\milvus_client.py:917\u001B[39m, in \u001B[36mMilvusClient._create_connection\u001B[39m\u001B[34m(self, uri, user, password, db_name, token, **kwargs)\u001B[39m\n\u001B[32m    916\u001B[39m     logger.error(\u001B[33m\"\u001B[39m\u001B[33mFailed to create new connection using: \u001B[39m\u001B[38;5;132;01m%s\u001B[39;00m\u001B[33m\"\u001B[39m, using)\n\u001B[32m--> \u001B[39m\u001B[32m917\u001B[39m     \u001B[38;5;28;01mraise\u001B[39;00m ex \u001B[38;5;28;01mfrom\u001B[39;00m\u001B[38;5;250m \u001B[39m\u001B[34;01mex\u001B[39;00m\n\u001B[32m    918\u001B[39m \u001B[38;5;28;01melse\u001B[39;00m:\n",
      "\u001B[36mFile \u001B[39m\u001B[32mD:\\PycharmProjects\\deepseek-excercise\\.venv\\Lib\\site-packages\\pymilvus\\milvus_client\\milvus_client.py:914\u001B[39m, in \u001B[36mMilvusClient._create_connection\u001B[39m\u001B[34m(self, uri, user, password, db_name, token, **kwargs)\u001B[39m\n\u001B[32m    913\u001B[39m \u001B[38;5;28;01mtry\u001B[39;00m:\n\u001B[32m--> \u001B[39m\u001B[32m914\u001B[39m     \u001B[43mconnections\u001B[49m\u001B[43m.\u001B[49m\u001B[43mconnect\u001B[49m\u001B[43m(\u001B[49m\u001B[43musing\u001B[49m\u001B[43m,\u001B[49m\u001B[43m \u001B[49m\u001B[43muser\u001B[49m\u001B[43m,\u001B[49m\u001B[43m \u001B[49m\u001B[43mpassword\u001B[49m\u001B[43m,\u001B[49m\u001B[43m \u001B[49m\u001B[43mdb_name\u001B[49m\u001B[43m,\u001B[49m\u001B[43m \u001B[49m\u001B[43mtoken\u001B[49m\u001B[43m,\u001B[49m\u001B[43m \u001B[49m\u001B[43muri\u001B[49m\u001B[43m=\u001B[49m\u001B[43muri\u001B[49m\u001B[43m,\u001B[49m\u001B[43m \u001B[49m\u001B[43m*\u001B[49m\u001B[43m*\u001B[49m\u001B[43mkwargs\u001B[49m\u001B[43m)\u001B[49m\n\u001B[32m    915\u001B[39m \u001B[38;5;28;01mexcept\u001B[39;00m \u001B[38;5;167;01mException\u001B[39;00m \u001B[38;5;28;01mas\u001B[39;00m ex:\n",
      "\u001B[36mFile \u001B[39m\u001B[32mD:\\PycharmProjects\\deepseek-excercise\\.venv\\Lib\\site-packages\\pymilvus\\orm\\connections.py:388\u001B[39m, in \u001B[36mConnections.connect\u001B[39m\u001B[34m(self, alias, user, password, db_name, token, _async, **kwargs)\u001B[39m\n\u001B[32m    384\u001B[39m     \u001B[38;5;28;01mraise\u001B[39;00m ConnectionConfigException(\n\u001B[32m    385\u001B[39m         message=\u001B[33mf\u001B[39m\u001B[33m\"\u001B[39m\u001B[33mOpen local milvus failed, dir: \u001B[39m\u001B[38;5;132;01m{\u001B[39;00mparent_path\u001B[38;5;132;01m}\u001B[39;00m\u001B[33m not exists\u001B[39m\u001B[33m\"\u001B[39m\n\u001B[32m    386\u001B[39m     )\n\u001B[32m--> \u001B[39m\u001B[32m388\u001B[39m \u001B[38;5;28;01mfrom\u001B[39;00m\u001B[38;5;250m \u001B[39m\u001B[34;01mmilvus_lite\u001B[39;00m\u001B[34;01m.\u001B[39;00m\u001B[34;01mserver_manager\u001B[39;00m\u001B[38;5;250m \u001B[39m\u001B[38;5;28;01mimport\u001B[39;00m (\n\u001B[32m    389\u001B[39m     server_manager_instance,\n\u001B[32m    390\u001B[39m )\n\u001B[32m    392\u001B[39m local_uri = server_manager_instance.start_and_get_uri(kwargs[\u001B[33m\"\u001B[39m\u001B[33muri\u001B[39m\u001B[33m\"\u001B[39m])\n",
      "\u001B[31mModuleNotFoundError\u001B[39m: No module named 'milvus_lite'",
      "\nThe above exception was the direct cause of the following exception:\n",
      "\u001B[31mModuleNotFoundError\u001B[39m                       Traceback (most recent call last)",
      "\u001B[36mCell\u001B[39m\u001B[36m \u001B[39m\u001B[32mIn[16]\u001B[39m\u001B[32m, line 2\u001B[39m\n\u001B[32m      1\u001B[39m \u001B[38;5;28;01mfrom\u001B[39;00m\u001B[38;5;250m \u001B[39m\u001B[34;01mpymilvus\u001B[39;00m\u001B[38;5;250m \u001B[39m\u001B[38;5;28;01mimport\u001B[39;00m MilvusClient\n\u001B[32m----> \u001B[39m\u001B[32m2\u001B[39m milvus_client = \u001B[43mMilvusClient\u001B[49m\u001B[43m(\u001B[49m\u001B[43muri\u001B[49m\u001B[43m=\u001B[49m\u001B[33;43m\"\u001B[39;49m\u001B[33;43m./milvus_demo.db\u001B[39;49m\u001B[33;43m\"\u001B[39;49m\u001B[43m)\u001B[49m\n\u001B[32m      3\u001B[39m collection_name=(\u001B[33m\"\u001B[39m\u001B[33mmy_rag_collection\u001B[39m\u001B[33m\"\u001B[39m)\n",
      "\u001B[36mFile \u001B[39m\u001B[32mD:\\PycharmProjects\\deepseek-excercise\\.venv\\Lib\\site-packages\\pymilvus\\milvus_client\\milvus_client.py:64\u001B[39m, in \u001B[36mMilvusClient.__init__\u001B[39m\u001B[34m(self, uri, user, password, db_name, token, timeout, **kwargs)\u001B[39m\n\u001B[32m     42\u001B[39m \u001B[38;5;28;01mdef\u001B[39;00m\u001B[38;5;250m \u001B[39m\u001B[34m__init__\u001B[39m(\n\u001B[32m     43\u001B[39m     \u001B[38;5;28mself\u001B[39m,\n\u001B[32m     44\u001B[39m     uri: \u001B[38;5;28mstr\u001B[39m = \u001B[33m\"\u001B[39m\u001B[33mhttp://localhost:19530\u001B[39m\u001B[33m\"\u001B[39m,\n\u001B[32m   (...)\u001B[39m\u001B[32m     50\u001B[39m     **kwargs,\n\u001B[32m     51\u001B[39m ) -> \u001B[38;5;28;01mNone\u001B[39;00m:\n\u001B[32m     52\u001B[39m \u001B[38;5;250m    \u001B[39m\u001B[33;03m\"\"\"A client for the common Milvus use case.\u001B[39;00m\n\u001B[32m     53\u001B[39m \n\u001B[32m     54\u001B[39m \u001B[33;03m    This client attempts to hide away the complexity of using Pymilvus. In a lot ofcases what\u001B[39;00m\n\u001B[32m   (...)\u001B[39m\u001B[32m     62\u001B[39m \u001B[33;03m            to None.\u001B[39;00m\n\u001B[32m     63\u001B[39m \u001B[33;03m    \"\"\"\u001B[39;00m\n\u001B[32m---> \u001B[39m\u001B[32m64\u001B[39m     \u001B[38;5;28mself\u001B[39m._using = \u001B[38;5;28;43mself\u001B[39;49m\u001B[43m.\u001B[49m\u001B[43m_create_connection\u001B[49m\u001B[43m(\u001B[49m\n\u001B[32m     65\u001B[39m \u001B[43m        \u001B[49m\u001B[43muri\u001B[49m\u001B[43m,\u001B[49m\u001B[43m \u001B[49m\u001B[43muser\u001B[49m\u001B[43m,\u001B[49m\u001B[43m \u001B[49m\u001B[43mpassword\u001B[49m\u001B[43m,\u001B[49m\u001B[43m \u001B[49m\u001B[43mdb_name\u001B[49m\u001B[43m,\u001B[49m\u001B[43m \u001B[49m\u001B[43mtoken\u001B[49m\u001B[43m,\u001B[49m\u001B[43m \u001B[49m\u001B[43mtimeout\u001B[49m\u001B[43m=\u001B[49m\u001B[43mtimeout\u001B[49m\u001B[43m,\u001B[49m\u001B[43m \u001B[49m\u001B[43m*\u001B[49m\u001B[43m*\u001B[49m\u001B[43mkwargs\u001B[49m\n\u001B[32m     66\u001B[39m \u001B[43m    \u001B[49m\u001B[43m)\u001B[49m\n\u001B[32m     67\u001B[39m     \u001B[38;5;28mself\u001B[39m.is_self_hosted = \u001B[38;5;28mbool\u001B[39m(utility.get_server_type(using=\u001B[38;5;28mself\u001B[39m._using) == \u001B[33m\"\u001B[39m\u001B[33mmilvus\u001B[39m\u001B[33m\"\u001B[39m)\n",
      "\u001B[36mFile \u001B[39m\u001B[32mD:\\PycharmProjects\\deepseek-excercise\\.venv\\Lib\\site-packages\\pymilvus\\milvus_client\\milvus_client.py:917\u001B[39m, in \u001B[36mMilvusClient._create_connection\u001B[39m\u001B[34m(self, uri, user, password, db_name, token, **kwargs)\u001B[39m\n\u001B[32m    915\u001B[39m \u001B[38;5;28;01mexcept\u001B[39;00m \u001B[38;5;167;01mException\u001B[39;00m \u001B[38;5;28;01mas\u001B[39;00m ex:\n\u001B[32m    916\u001B[39m     logger.error(\u001B[33m\"\u001B[39m\u001B[33mFailed to create new connection using: \u001B[39m\u001B[38;5;132;01m%s\u001B[39;00m\u001B[33m\"\u001B[39m, using)\n\u001B[32m--> \u001B[39m\u001B[32m917\u001B[39m     \u001B[38;5;28;01mraise\u001B[39;00m ex \u001B[38;5;28;01mfrom\u001B[39;00m\u001B[38;5;250m \u001B[39m\u001B[34;01mex\u001B[39;00m\n\u001B[32m    918\u001B[39m \u001B[38;5;28;01melse\u001B[39;00m:\n\u001B[32m    919\u001B[39m     logger.debug(\u001B[33m\"\u001B[39m\u001B[33mCreated new connection using: \u001B[39m\u001B[38;5;132;01m%s\u001B[39;00m\u001B[33m\"\u001B[39m, using)\n",
      "\u001B[36mFile \u001B[39m\u001B[32mD:\\PycharmProjects\\deepseek-excercise\\.venv\\Lib\\site-packages\\pymilvus\\milvus_client\\milvus_client.py:914\u001B[39m, in \u001B[36mMilvusClient._create_connection\u001B[39m\u001B[34m(self, uri, user, password, db_name, token, **kwargs)\u001B[39m\n\u001B[32m    912\u001B[39m using = kwargs.pop(\u001B[33m\"\u001B[39m\u001B[33malias\u001B[39m\u001B[33m\"\u001B[39m, \u001B[38;5;28;01mNone\u001B[39;00m) \u001B[38;5;129;01mor\u001B[39;00m uuid4().hex\n\u001B[32m    913\u001B[39m \u001B[38;5;28;01mtry\u001B[39;00m:\n\u001B[32m--> \u001B[39m\u001B[32m914\u001B[39m     \u001B[43mconnections\u001B[49m\u001B[43m.\u001B[49m\u001B[43mconnect\u001B[49m\u001B[43m(\u001B[49m\u001B[43musing\u001B[49m\u001B[43m,\u001B[49m\u001B[43m \u001B[49m\u001B[43muser\u001B[49m\u001B[43m,\u001B[49m\u001B[43m \u001B[49m\u001B[43mpassword\u001B[49m\u001B[43m,\u001B[49m\u001B[43m \u001B[49m\u001B[43mdb_name\u001B[49m\u001B[43m,\u001B[49m\u001B[43m \u001B[49m\u001B[43mtoken\u001B[49m\u001B[43m,\u001B[49m\u001B[43m \u001B[49m\u001B[43muri\u001B[49m\u001B[43m=\u001B[49m\u001B[43muri\u001B[49m\u001B[43m,\u001B[49m\u001B[43m \u001B[49m\u001B[43m*\u001B[49m\u001B[43m*\u001B[49m\u001B[43mkwargs\u001B[49m\u001B[43m)\u001B[49m\n\u001B[32m    915\u001B[39m \u001B[38;5;28;01mexcept\u001B[39;00m \u001B[38;5;167;01mException\u001B[39;00m \u001B[38;5;28;01mas\u001B[39;00m ex:\n\u001B[32m    916\u001B[39m     logger.error(\u001B[33m\"\u001B[39m\u001B[33mFailed to create new connection using: \u001B[39m\u001B[38;5;132;01m%s\u001B[39;00m\u001B[33m\"\u001B[39m, using)\n",
      "\u001B[36mFile \u001B[39m\u001B[32mD:\\PycharmProjects\\deepseek-excercise\\.venv\\Lib\\site-packages\\pymilvus\\orm\\connections.py:388\u001B[39m, in \u001B[36mConnections.connect\u001B[39m\u001B[34m(self, alias, user, password, db_name, token, _async, **kwargs)\u001B[39m\n\u001B[32m    383\u001B[39m \u001B[38;5;28;01mif\u001B[39;00m \u001B[38;5;129;01mnot\u001B[39;00m parent_path.is_dir():\n\u001B[32m    384\u001B[39m     \u001B[38;5;28;01mraise\u001B[39;00m ConnectionConfigException(\n\u001B[32m    385\u001B[39m         message=\u001B[33mf\u001B[39m\u001B[33m\"\u001B[39m\u001B[33mOpen local milvus failed, dir: \u001B[39m\u001B[38;5;132;01m{\u001B[39;00mparent_path\u001B[38;5;132;01m}\u001B[39;00m\u001B[33m not exists\u001B[39m\u001B[33m\"\u001B[39m\n\u001B[32m    386\u001B[39m     )\n\u001B[32m--> \u001B[39m\u001B[32m388\u001B[39m \u001B[38;5;28;01mfrom\u001B[39;00m\u001B[38;5;250m \u001B[39m\u001B[34;01mmilvus_lite\u001B[39;00m\u001B[34;01m.\u001B[39;00m\u001B[34;01mserver_manager\u001B[39;00m\u001B[38;5;250m \u001B[39m\u001B[38;5;28;01mimport\u001B[39;00m (\n\u001B[32m    389\u001B[39m     server_manager_instance,\n\u001B[32m    390\u001B[39m )\n\u001B[32m    392\u001B[39m local_uri = server_manager_instance.start_and_get_uri(kwargs[\u001B[33m\"\u001B[39m\u001B[33muri\u001B[39m\u001B[33m\"\u001B[39m])\n\u001B[32m    393\u001B[39m \u001B[38;5;28;01mif\u001B[39;00m local_uri \u001B[38;5;129;01mis\u001B[39;00m \u001B[38;5;28;01mNone\u001B[39;00m:\n",
      "\u001B[31mModuleNotFoundError\u001B[39m: No module named 'milvus_lite'"
     ]
    }
   ],
   "execution_count": 16
  },
  {
   "metadata": {},
   "cell_type": "code",
   "outputs": [],
   "execution_count": null,
   "source": "",
   "id": "a42e0d09932f1b10"
  },
  {
   "metadata": {},
   "cell_type": "code",
   "outputs": [],
   "execution_count": null,
   "source": "",
   "id": "4c6f686c4e3ca8a0"
  }
 ],
 "metadata": {
  "kernelspec": {
   "display_name": "Python 3",
   "language": "python",
   "name": "python3"
  },
  "language_info": {
   "codemirror_mode": {
    "name": "ipython",
    "version": 2
   },
   "file_extension": ".py",
   "mimetype": "text/x-python",
   "name": "python",
   "nbconvert_exporter": "python",
   "pygments_lexer": "ipython2",
   "version": "2.7.6"
  }
 },
 "nbformat": 4,
 "nbformat_minor": 5
}
